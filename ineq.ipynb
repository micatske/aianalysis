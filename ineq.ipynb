{
 "cells": [
  {
   "cell_type": "code",
   "execution_count": 58,
   "metadata": {},
   "outputs": [],
   "source": [
    "from sympy import *\n",
    "import inspect\n",
    "import numpy as np\n",
    "from fractions import Fraction\n",
    "init_printing()\n",
    "%run -i symbol_func_spaces.py\n"
   ]
  },
  {
   "cell_type": "code",
   "execution_count": 16,
   "metadata": {},
   "outputs": [],
   "source": [
    "s=Symbol(\"s\")\n",
    "p=Symbol(\"p\")\n",
    "n=Symbol(\"n\")\n",
    "q=Symbol(\"q\")\n",
    "f=Symbol(\"f\")\n",
    "g=Symbol(\"g\")\n",
    "alpha=Symbol(\"alpha\")\n",
    "r=Symbol(\"r\")\n",
    "k=Symbol(\"k\")\n",
    "l=Symbol(\"l\")"
   ]
  },
  {
   "cell_type": "code",
   "execution_count": 10,
   "metadata": {},
   "outputs": [
    {
     "data": {
      "image/png": "[encoded data removed]",
      "text/latex": [
       "$\\displaystyle \\left \\|  f \\right \\|_{C^{r,\\alpha}}$"
      ],
      "text/plain": [
       "Holder_Space(r, α, f)"
      ]
     },
     "execution_count": 10,
     "metadata": {},
     "output_type": "execute_result"
    }
   ],
   "source": [
    "Holder_Space(r,alpha,f)"
   ]
  },
  {
   "cell_type": "code",
   "execution_count": null,
   "metadata": {},
   "outputs": [],
   "source": [
    "\n",
    "    "
   ]
  },
  {
   "cell_type": "code",
   "execution_count": 43,
   "metadata": {},
   "outputs": [],
   "source": [
    "class Sobolev_Embed(Function):\n",
    "    @classmethod\n",
    "    def eval(cls, k, p,q,l,n,f):\n",
    "        pass\n",
    "    def _latex(self, printer):\n",
    "         k,p,q,l,n,f = self.args\n",
    "         _k,_p,_q,_l,_f = printer._print(k),printer._print(p), printer._print(q),printer._print(l),printer._print(f)\n",
    "         if k==1 and l==0:\n",
    "             return r'\\left \\|  %s \\right \\|_{L^{ %s *}} \\leq \\left \\|  %s \\right \\|_{W^{1,%s}}' % (_f,_p,_f,_p)\n",
    "         if (1/p-1/q+(k-l)/n==0):\n",
    "             return r'\\left \\|  %s \\right \\|_{W^{%s,%s}} \\leq \\left \\|  %s \\right \\|_{W^{%s,%s}}' % (_f,_l,_q,_f,_k,_p)\n",
    "         if n<p*k and q+l==k-n/p:\n",
    "             return r'\\left \\|  %s \\right \\|_{C^{%s,%s}} \\leq \\left \\|  %s \\right \\|_{W^{%s,%s}}' % (_f,_q,_l,_f,_k,_p)\n",
    "             "
   ]
  },
  {
   "cell_type": "code",
   "execution_count": 55,
   "metadata": {},
   "outputs": [
    {
     "data": {
      "image/png": "[encoded data removed]",
      "text/latex": [
       "$\\displaystyle None$"
      ],
      "text/plain": [
       "Sobolev_Embed(1, 2, 3, 4, 1, f)"
      ]
     },
     "execution_count": 55,
     "metadata": {},
     "output_type": "execute_result"
    }
   ],
   "source": [
    "Sobolev_Embed(1,2,3,4,1,f)"
   ]
  },
  {
   "cell_type": "code",
   "execution_count": 129,
   "metadata": {},
   "outputs": [],
   "source": [
    "class Sobolev_Embed_auto(Function):\n",
    "    @classmethod\n",
    "    def eval(cls, k, p,n,f):\n",
    "        res=[]\n",
    "        if 1<=p<n:\n",
    "            m=float(1/p-k/n)\n",
    "            q_1=np.linspace(0.01,float(1/p),10,dtype=float)\n",
    "            for i in range(len(q_1)):\n",
    "                l=float(k+n*q_1[i]-n*(1/p))\n",
    "                res.append(Sobolev_Space(Fraction.from_float(l),Fraction.from_float(1/q_1[i]),f))\n",
    "        if k==1:\n",
    "            return Lp(Rational(p-1,p),f)\n",
    "        if n<p*k:\n",
    "            m= float(k-n/p)\n",
    "            r=np.linspace(0,m,10,dtype=float)\n",
    "            res=[]\n",
    "            for i in range(len(r)):\n",
    "                res.append(Holder_Space(Fraction.from_float(r[i]), Fraction.from_float(m-r[i]),f))\n",
    "        return res  \n",
    "    def _latex(self, printer):\n",
    "         k,p,n,f = self.args\n",
    "         _k,_p,_n,_f = printer._print(k),printer._print(p), printer._print(n),printer._print(f)\n",
    "         if k==1 and l==0:\n",
    "             return r'\\left \\|  %s \\right \\|_{L^{ %s *}} \\leq \\left \\|  %s \\right \\|_{W^{1,%s}}' % (_f,_p,_f,_p)\n",
    "         if (1/p-1/q+(k-l)/n==0):\n",
    "             return r'\\left \\|  %s \\right \\|_{W^{%s,%s}} \\leq \\left \\|  %s \\right \\|_{W^{%s,%s}}' % (_f,_l,_q,_f,_k,_p)\n",
    "         if n<p*k and q+l==k-n/p:\n",
    "             return r'\\left \\|  %s \\right \\|_{C^{%s,%s}} \\leq \\left \\|  %s \\right \\|_{W^{%s,%s}}' % (_f,_q,_l,_f,_k,_p)"
   ]
  },
  {
   "cell_type": "code",
   "execution_count": null,
   "metadata": {},
   "outputs": [],
   "source": []
  },
  {
   "cell_type": "code",
   "execution_count": 107,
   "metadata": {},
   "outputs": [
    {
     "data": {
      "image/png": "[encoded data removed]",
      "text/latex": [
       "$\\displaystyle \\left[ \\left \\|  f \\right \\|_{C^{0,\\frac{3}{2}}}, \\  \\left \\|  f \\right \\|_{C^{\\frac{6004799503160661}{36028797018963968},\\frac{6004799503160661}{4503599627370496}}}, \\  \\left \\|  f \\right \\|_{C^{\\frac{6004799503160661}{18014398509481984},\\frac{5254199565265579}{4503599627370496}}}, \\  \\left \\|  f \\right \\|_{C^{\\frac{1}{2},1}}, \\  \\left \\|  f \\right \\|_{C^{\\frac{6004799503160661}{9007199254740992},\\frac{7505999378950827}{9007199254740992}}}, \\  \\left \\|  f \\right \\|_{C^{\\frac{3752999689475413}{4503599627370496},\\frac{3002399751580331}{4503599627370496}}}, \\  \\left \\|  f \\right \\|_{C^{1,\\frac{1}{2}}}, \\  \\left \\|  f \\right \\|_{C^{\\frac{2627099782632789}{2251799813685248},\\frac{750599937895083}{2251799813685248}}}, \\  \\left \\|  f \\right \\|_{C^{\\frac{6004799503160661}{4503599627370496},\\frac{750599937895083}{4503599627370496}}}, \\  \\left \\|  f \\right \\|_{C^{\\frac{3}{2},0}}\\right]$"
      ],
      "text/plain": [
       "⎡                                     ⎛ 6004799503160661  6004799503160661   ⎞\n",
       "⎢Holder_Space(0, 3/2, f), Holder_Space⎜─────────────────, ────────────────, f⎟\n",
       "⎣                                     ⎝36028797018963968  4503599627370496   ⎠\n",
       "\n",
       "              ⎛ 6004799503160661  5254199565265579   ⎞                        \n",
       ", Holder_Space⎜─────────────────, ────────────────, f⎟, Holder_Space(1/2, 1, f\n",
       "              ⎝18014398509481984  4503599627370496   ⎠                        \n",
       "\n",
       "               ⎛6004799503160661  7505999378950827   ⎞              ⎛375299968\n",
       "), Holder_Space⎜────────────────, ────────────────, f⎟, Holder_Space⎜─────────\n",
       "               ⎝9007199254740992  9007199254740992   ⎠              ⎝450359962\n",
       "\n",
       "9475413  3002399751580331   ⎞                                       ⎛262709978\n",
       "───────, ────────────────, f⎟, Holder_Space(1, 1/2, f), Holder_Space⎜─────────\n",
       "7370496  4503599627370496   ⎠                                       ⎝225179981\n",
       "\n",
       "2632789  750599937895083    ⎞              ⎛6004799503160661  750599937895083 \n",
       "───────, ────────────────, f⎟, Holder_Space⎜────────────────, ────────────────\n",
       "3685248  2251799813685248   ⎠              ⎝4503599627370496  4503599627370496\n",
       "\n",
       "   ⎞                         ⎤\n",
       ", f⎟, Holder_Space(3/2, 0, f)⎥\n",
       "   ⎠                         ⎦"
      ]
     },
     "execution_count": 107,
     "metadata": {},
     "output_type": "execute_result"
    }
   ],
   "source": [
    "Sobolev_Embed_auto(2,2,1,f)"
   ]
  },
  {
   "cell_type": "code",
   "execution_count": 130,
   "metadata": {},
   "outputs": [
    {
     "data": {
      "image/png": "[encoded data removed]",
      "text/latex": [
       "$\\displaystyle \\left[ \\left \\|  f \\right \\|_{W^{\\frac{45035996273705}{1125899906842624},100}}, \\  \\left \\|  f \\right \\|_{W^{\\frac{580463951972197}{2251799813685248},\\frac{4367715155855007}{281474976710656}}}, \\  \\left \\|  f \\right \\|_{W^{\\frac{133856988924623}{281474976710656},\\frac{4735093066160569}{562949953421312}}}, \\  \\left \\|  f \\right \\|_{W^{\\frac{390311967705443}{562949953421312},\\frac{6495576385630523}{1125899906842624}}}, \\  \\left \\|  f \\right \\|_{W^{\\frac{2051639830246559}{2251799813685248},\\frac{308935950048281}{70368744177664}}}, \\  \\left \\|  f \\right \\|_{W^{\\frac{1271015894835673}{1125899906842624},\\frac{7978818237467415}{2251799813685248}}}, \\  \\left \\|  f \\right \\|_{W^{\\frac{1516211874548067}{1125899906842624},\\frac{3344257149037497}{1125899906842624}}}, \\  \\left \\|  f \\right \\|_{W^{\\frac{3522815708520921}{2251799813685248},\\frac{5757442705445237}{2251799813685248}}}, \\  \\left \\|  f \\right \\|_{W^{\\frac{1003301916986427}{562949953421312},\\frac{2526957396903645}{1125899906842624}}}, \\  \\left \\|  f \\right \\|_{W^{2,2}}\\right]$"
      ],
      "text/plain": [
       "⎡             ⎛ 45035996273705         ⎞               ⎛580463951972197   4367\n",
       "⎢Sobolev_Space⎜────────────────, 100, f⎟, Sobolev_Space⎜────────────────, ────\n",
       "⎣             ⎝1125899906842624        ⎠               ⎝2251799813685248  2814\n",
       "\n",
       "715155855007   ⎞               ⎛133856988924623  4735093066160569   ⎞         \n",
       "────────────, f⎟, Sobolev_Space⎜───────────────, ────────────────, f⎟, Sobolev\n",
       "74976710656    ⎠               ⎝281474976710656  562949953421312    ⎠         \n",
       "\n",
       "      ⎛390311967705443  6495576385630523   ⎞               ⎛2051639830246559  \n",
       "_Space⎜───────────────, ────────────────, f⎟, Sobolev_Space⎜────────────────, \n",
       "      ⎝562949953421312  1125899906842624   ⎠               ⎝2251799813685248  \n",
       "\n",
       "308935950048281   ⎞               ⎛1271015894835673  7978818237467415   ⎞     \n",
       "───────────────, f⎟, Sobolev_Space⎜────────────────, ────────────────, f⎟, Sob\n",
       " 70368744177664   ⎠               ⎝1125899906842624  2251799813685248   ⎠     \n",
       "\n",
       "          ⎛1516211874548067  3344257149037497   ⎞               ⎛3522815708520\n",
       "olev_Space⎜────────────────, ────────────────, f⎟, Sobolev_Space⎜─────────────\n",
       "          ⎝1125899906842624  1125899906842624   ⎠               ⎝2251799813685\n",
       "\n",
       "921  5757442705445237   ⎞               ⎛1003301916986427  2526957396903645   \n",
       "───, ────────────────, f⎟, Sobolev_Space⎜────────────────, ────────────────, f\n",
       "248  2251799813685248   ⎠               ⎝562949953421312   1125899906842624   \n",
       "\n",
       "⎞                        ⎤\n",
       "⎟, Sobolev_Space(2, 2, f)⎥\n",
       "⎠                        ⎦"
      ]
     },
     "execution_count": 130,
     "metadata": {},
     "output_type": "execute_result"
    }
   ],
   "source": [
    "Sobolev_Embed_auto(2,2,4,f)"
   ]
  },
  {
   "cell_type": "code",
   "execution_count": null,
   "metadata": {},
   "outputs": [],
   "source": [
    "class Sobolev_Embed_auto_bdd(Function):\n",
    "    @classmethod\n",
    "    def eval(cls, k, p,n,f):\n",
    "        res=[]\n",
    "        if 1<=p<n:\n",
    "            m=float(1/p-k/n)\n",
    "            q_1=np.linspace(0.01,float(1/p),10,dtype=float)\n",
    "            for i in range(len(q_1)):\n",
    "                l=float(k+n*q_1[i]-n*(1/p))\n",
    "                res.append(Sobolev_Space(Fraction.from_float(l),Fraction.from_float(1/q_1[i]),f))\n",
    "        if k==1:\n",
    "            return Lp(Rational(p-1,p),f)\n",
    "        if n<p*k:\n",
    "            m= float(k-n/p)\n",
    "            r=np.linspace(0,m,10,dtype=float)\n",
    "            res=[]\n",
    "            for i in range(len(r)):\n",
    "                res.append(Holder_Space(Fraction.from_float(r[i]), Fraction.from_float(m-r[i]),f))\n",
    "        return res  \n",
    "    def _latex(self, printer):\n",
    "         k,p,n,f = self.args\n",
    "         _k,_p,_n,_f = printer._print(k),printer._print(p), printer._print(n),printer._print(f)\n",
    "         if k==1 and l==0:\n",
    "             return r'\\left \\|  %s \\right \\|_{L^{ %s *}} \\leq \\left \\|  %s \\right \\|_{W^{1,%s}}' % (_f,_p,_f,_p)\n",
    "         if (1/p-1/q+(k-l)/n==0):\n",
    "             return r'\\left \\|  %s \\right \\|_{W^{%s,%s}} \\leq \\left \\|  %s \\right \\|_{W^{%s,%s}}' % (_f,_l,_q,_f,_k,_p)\n",
    "         if n<p*k and q+l==k-n/p:\n",
    "             return r'\\left \\|  %s \\right \\|_{C^{%s,%s}} \\leq \\left \\|  %s \\right \\|_{W^{%s,%s}}' % (_f,_q,_l,_f,_k,_p)"
   ]
  }
 ],
 "metadata": {
  "kernelspec": {
   "display_name": "Python 3.8.8 64-bit ('base': conda)",
   "language": "python",
   "name": "python3"
  },
  "language_info": {
   "codemirror_mode": {
    "name": "ipython",
    "version": 3
   },
   "file_extension": ".py",
   "mimetype": "text/x-python",
   "name": "python",
   "nbconvert_exporter": "python",
   "pygments_lexer": "ipython3",
   "version": "3.8.8"
  },
  "orig_nbformat": 4,
  "vscode": {
   "interpreter": {
    "hash": "2c7381590f706752d836b9a448b90c34fae300fbf3dc9d730d2ea58ac2b7cd66"
   }
  }
 },
 "nbformat": 4,
 "nbformat_minor": 2
}
