{
 "cells": [
  {
   "cell_type": "code",
   "execution_count": 2,
   "metadata": {},
   "outputs": [],
   "source": [
    "from sympy import *\n",
    "import inspect\n",
    "import numpy as np\n",
    "from fractions import Fraction\n",
    "init_printing()\n",
    "%run -i symbol_func_spaces.py\n"
   ]
  },
  {
   "cell_type": "code",
   "execution_count": 3,
   "metadata": {},
   "outputs": [],
   "source": [
    "s=Symbol(\"s\")\n",
    "p=Symbol(\"p\")\n",
    "n=Symbol(\"n\")\n",
    "q=Symbol(\"q\")\n",
    "f=Symbol(\"f\")\n",
    "g=Symbol(\"g\")\n",
    "alpha=Symbol(\"alpha\")\n",
    "r=Symbol(\"r\")\n",
    "k=Symbol(\"k\")\n",
    "l=Symbol(\"l\")"
   ]
  },
  {
   "cell_type": "code",
   "execution_count": 4,
   "metadata": {},
   "outputs": [
    {
     "data": {
      "image/png": "[encoded data removed]",
      "text/latex": [
       "$\\displaystyle \\left \\|  f \\right \\|_{C^{r,\\alpha}}$"
      ],
      "text/plain": [
       "Holder_Space(r, α, f)"
      ]
     },
     "execution_count": 4,
     "metadata": {},
     "output_type": "execute_result"
    }
   ],
   "source": [
    "Holder_Space(r,alpha,f)"
   ]
  },
  {
   "cell_type": "code",
   "execution_count": null,
   "metadata": {},
   "outputs": [],
   "source": [
    "\n",
    "    "
   ]
  },
  {
   "cell_type": "code",
   "execution_count": 43,
   "metadata": {},
   "outputs": [],
   "source": [
    "class Sobolev_Embed(Function):\n",
    "    @classmethod\n",
    "    def eval(cls, k, p,q,l,n,f):\n",
    "        pass\n",
    "    def _latex(self, printer):\n",
    "         k,p,q,l,n,f = self.args\n",
    "         _k,_p,_q,_l,_f = printer._print(k),printer._print(p), printer._print(q),printer._print(l),printer._print(f)\n",
    "         if k==1 and l==0:\n",
    "             return r'\\left \\|  %s \\right \\|_{L^{ %s *}} \\leq \\left \\|  %s \\right \\|_{W^{1,%s}}' % (_f,_p,_f,_p)\n",
    "         if (1/p-1/q+(k-l)/n==0):\n",
    "             return r'\\left \\|  %s \\right \\|_{W^{%s,%s}} \\leq \\left \\|  %s \\right \\|_{W^{%s,%s}}' % (_f,_l,_q,_f,_k,_p)\n",
    "         if n<p*k and q+l==k-n/p:\n",
    "             return r'\\left \\|  %s \\right \\|_{C^{%s,%s}} \\leq \\left \\|  %s \\right \\|_{W^{%s,%s}}' % (_f,_q,_l,_f,_k,_p)\n",
    "             "
   ]
  },
  {
   "cell_type": "code",
   "execution_count": 55,
   "metadata": {},
   "outputs": [
    {
     "data": {
      "image/png": "[encoded data removed]",
      "text/latex": [
       "$\\displaystyle None$"
      ],
      "text/plain": [
       "Sobolev_Embed(1, 2, 3, 4, 1, f)"
      ]
     },
     "execution_count": 55,
     "metadata": {},
     "output_type": "execute_result"
    }
   ],
   "source": [
    "Sobolev_Embed(1,2,3,4,1,f)"
   ]
  },
  {
   "cell_type": "code",
   "execution_count": 24,
   "metadata": {},
   "outputs": [],
   "source": [
    "class Sobolev_Embed_auto(Function):\n",
    "    @classmethod\n",
    "    def eval(cls, k, p,n,f):\n",
    "        res=[]\n",
    "        if 1<=p<n:\n",
    "            m=float(1/p-k/n)\n",
    "            q_1=np.linspace(0.01,float(1/p),10,dtype=float)\n",
    "            for i in range(len(q_1)):\n",
    "                l=Rational(float(k+n*q_1[i]-n*(1/p))).limit_denominator(100)\n",
    "                q=Rational(1/q_1[i]).limit_denominator(100)\n",
    "                res.append(Sobolev_Space(l,q,f))\n",
    "               \n",
    "        if k==1:\n",
    "            return Lp(Rational(p-1,p),f)\n",
    "        if n<p*k:\n",
    "            m= float(k-n/p)\n",
    "            r=np.linspace(0,m,10,dtype=float)\n",
    "            res=[]\n",
    "            for i in range(len(r)):\n",
    "                r_use=Rational(float(r[i])).limit_denominator(100)\n",
    "                alpha_use=Rational(m-r_use).limit_denominator(100)\n",
    "                res.append(Holder_Space(r_use, alpha_use,f))\n",
    "        return res  \n",
    "    def _latex(self, printer):\n",
    "         k,p,n,f = self.args\n",
    "         _k,_p,_n,_f = printer._print(k),printer._print(p), printer._print(n),printer._print(f)\n",
    "         if k==1 and l==0:\n",
    "             return r'\\left \\|  %s \\right \\|_{L^{ %s *}} \\leq \\left \\|  %s \\right \\|_{W^{1,%s}}' % (_f,_p,_f,_p)\n",
    "         if (1/p-1/q+(k-l)/n==0):\n",
    "             return r'\\left \\|  %s \\right \\|_{W^{%s,%s}} \\leq \\left \\|  %s \\right \\|_{W^{%s,%s}}' % (_f,_l,_q,_f,_k,_p)\n",
    "         if n<p*k and q+l==k-n/p:\n",
    "             return r'\\left \\|  %s \\right \\|_{C^{%s,%s}} \\leq \\left \\|  %s \\right \\|_{W^{%s,%s}}' % (_f,_q,_l,_f,_k,_p)"
   ]
  },
  {
   "cell_type": "code",
   "execution_count": null,
   "metadata": {},
   "outputs": [],
   "source": []
  },
  {
   "cell_type": "code",
   "execution_count": 25,
   "metadata": {},
   "outputs": [
    {
     "data": {
      "image/png": "[encoded data removed]",
      "text/latex": [
       "$\\displaystyle \\left[ \\left \\|  f \\right \\|_{C^{0,\\frac{3}{2}}}, \\  \\left \\|  f \\right \\|_{C^{\\frac{1}{6},\\frac{4}{3}}}, \\  \\left \\|  f \\right \\|_{C^{\\frac{1}{3},\\frac{7}{6}}}, \\  \\left \\|  f \\right \\|_{C^{\\frac{1}{2},1}}, \\  \\left \\|  f \\right \\|_{C^{\\frac{2}{3},\\frac{5}{6}}}, \\  \\left \\|  f \\right \\|_{C^{\\frac{5}{6},\\frac{2}{3}}}, \\  \\left \\|  f \\right \\|_{C^{1,\\frac{1}{2}}}, \\  \\left \\|  f \\right \\|_{C^{\\frac{7}{6},\\frac{1}{3}}}, \\  \\left \\|  f \\right \\|_{C^{\\frac{4}{3},\\frac{1}{6}}}, \\  \\left \\|  f \\right \\|_{C^{\\frac{3}{2},0}}\\right]$"
      ],
      "text/plain": [
       "[Holder_Space(0, 3/2, f), Holder_Space(1/6, 4/3, f), Holder_Space(1/3, 7/6, f)\n",
       ", Holder_Space(1/2, 1, f), Holder_Space(2/3, 5/6, f), Holder_Space(5/6, 2/3, f\n",
       "), Holder_Space(1, 1/2, f), Holder_Space(7/6, 1/3, f), Holder_Space(4/3, 1/6, \n",
       "f), Holder_Space(3/2, 0, f)]"
      ]
     },
     "execution_count": 25,
     "metadata": {},
     "output_type": "execute_result"
    }
   ],
   "source": [
    "Sobolev_Embed_auto(2,2,1,f)"
   ]
  },
  {
   "cell_type": "code",
   "execution_count": 11,
   "metadata": {},
   "outputs": [
    {
     "data": {
      "image/png": "[encoded data removed]",
      "text/latex": [
       "$\\displaystyle \\left[ \\left \\|  f \\right \\|_{W^{\\frac{1}{25},100}}, \\  \\left \\|  f \\right \\|_{W^{\\frac{25}{97},\\frac{450}{29}}}, \\  \\left \\|  f \\right \\|_{W^{\\frac{39}{82},\\frac{757}{90}}}, \\  \\left \\|  f \\right \\|_{W^{\\frac{52}{75},\\frac{75}{13}}}, \\  \\left \\|  f \\right \\|_{W^{\\frac{41}{45},\\frac{180}{41}}}, \\  \\left \\|  f \\right \\|_{W^{\\frac{35}{31},\\frac{287}{81}}}, \\  \\left \\|  f \\right \\|_{W^{\\frac{101}{75},\\frac{199}{67}}}, \\  \\left \\|  f \\right \\|_{W^{\\frac{97}{62},\\frac{225}{88}}}, \\  \\left \\|  f \\right \\|_{W^{\\frac{139}{78},\\frac{101}{45}}}, \\  \\left \\|  f \\right \\|_{W^{2,2}}\\right]$"
      ],
      "text/plain": [
       "⎡                                          ⎛25  450   ⎞               ⎛39  757\n",
       "⎢Sobolev_Space(1/25, 100, f), Sobolev_Space⎜──, ───, f⎟, Sobolev_Space⎜──, ───\n",
       "⎣                                          ⎝97   29   ⎠               ⎝82   90\n",
       "\n",
       "   ⎞               ⎛52  75   ⎞               ⎛41  180   ⎞               ⎛35  2\n",
       ", f⎟, Sobolev_Space⎜──, ──, f⎟, Sobolev_Space⎜──, ───, f⎟, Sobolev_Space⎜──, ─\n",
       "   ⎠               ⎝75  13   ⎠               ⎝45   41   ⎠               ⎝31   \n",
       "\n",
       "87   ⎞               ⎛101  199   ⎞               ⎛97  225   ⎞               ⎛1\n",
       "──, f⎟, Sobolev_Space⎜───, ───, f⎟, Sobolev_Space⎜──, ───, f⎟, Sobolev_Space⎜─\n",
       "81   ⎠               ⎝ 75   67   ⎠               ⎝62   88   ⎠               ⎝ \n",
       "\n",
       "39  101   ⎞                        ⎤\n",
       "──, ───, f⎟, Sobolev_Space(2, 2, f)⎥\n",
       "78   45   ⎠                        ⎦"
      ]
     },
     "execution_count": 11,
     "metadata": {},
     "output_type": "execute_result"
    }
   ],
   "source": [
    "Sobolev_Embed_auto(2,2,4,f)"
   ]
  },
  {
   "cell_type": "code",
   "execution_count": null,
   "metadata": {},
   "outputs": [],
   "source": [
    "class Sobolev_Embed_auto_bdd(Function):\n",
    "    @classmethod\n",
    "    def eval(cls, k, p,n,f):\n",
    "        res=[]\n",
    "        if 1<=p<n:\n",
    "            m=float(1/p-k/n)\n",
    "            q_1=np.linspace(0.01,float(1/p),10,dtype=float)\n",
    "            for i in range(len(q_1)):\n",
    "                l=float(k+n*q_1[i]-n*(1/p))\n",
    "                res.append(Sobolev_Space(Fraction.from_float(l),Fraction.from_float(1/q_1[i]),f))\n",
    "        if k==1:\n",
    "            return Lp(Rational(p-1,p),f)\n",
    "        if n<p*k:\n",
    "            m= float(k-n/p)\n",
    "            r=np.linspace(0,m,10,dtype=float)\n",
    "            res=[]\n",
    "            for i in range(len(r)):\n",
    "                res.append(Holder_Space(Fraction.from_float(r[i]), Fraction.from_float(m-r[i]),f))\n",
    "        return res  \n",
    "    def _latex(self, printer):\n",
    "         k,p,n,f = self.args\n",
    "         _k,_p,_n,_f = printer._print(k),printer._print(p), printer._print(n),printer._print(f)\n",
    "         if k==1 and l==0:\n",
    "             return r'\\left \\|  %s \\right \\|_{L^{ %s *}} \\leq \\left \\|  %s \\right \\|_{W^{1,%s}}' % (_f,_p,_f,_p)\n",
    "         if (1/p-1/q+(k-l)/n==0):\n",
    "             return r'\\left \\|  %s \\right \\|_{W^{%s,%s}} \\leq \\left \\|  %s \\right \\|_{W^{%s,%s}}' % (_f,_l,_q,_f,_k,_p)\n",
    "         if n<p*k and q+l==k-n/p:\n",
    "             return r'\\left \\|  %s \\right \\|_{C^{%s,%s}} \\leq \\left \\|  %s \\right \\|_{W^{%s,%s}}' % (_f,_q,_l,_f,_k,_p)"
   ]
  }
 ],
 "metadata": {
  "kernelspec": {
   "display_name": "Python 3.9.5 ('base')",
   "language": "python",
   "name": "python3"
  },
  "language_info": {
   "codemirror_mode": {
    "name": "ipython",
    "version": 3
   },
   "file_extension": ".py",
   "mimetype": "text/x-python",
   "name": "python",
   "nbconvert_exporter": "python",
   "pygments_lexer": "ipython3",
   "version": "3.9.5"
  },
  "orig_nbformat": 4,
  "vscode": {
   "interpreter": {
    "hash": "e7604e8ec5f09e490e10161e37a4725039efd3ab703d81b1b8a1e00d6741866c"
   }
  }
 },
 "nbformat": 4,
 "nbformat_minor": 2
}
