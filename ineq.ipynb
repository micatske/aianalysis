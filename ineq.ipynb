{
 "cells": [
  {
   "cell_type": "code",
   "execution_count": 8,
   "metadata": {},
   "outputs": [],
   "source": [
    "from sympy import *\n",
    "import inspect\n",
    "from fractions import Fraction\n",
    "init_printing()\n",
    "%run -i symbol_func_spaces.py\n"
   ]
  },
  {
   "cell_type": "code",
   "execution_count": 16,
   "metadata": {},
   "outputs": [],
   "source": [
    "s=Symbol(\"s\")\n",
    "p=Symbol(\"p\")\n",
    "n=Symbol(\"n\")\n",
    "q=Symbol(\"q\")\n",
    "f=Symbol(\"f\")\n",
    "g=Symbol(\"g\")\n",
    "alpha=Symbol(\"alpha\")\n",
    "r=Symbol(\"r\")\n",
    "k=Symbol(\"k\")\n",
    "l=Symbol(\"l\")"
   ]
  },
  {
   "cell_type": "code",
   "execution_count": 10,
   "metadata": {},
   "outputs": [
    {
     "data": {
      "image/png": "[encoded data removed]",
      "text/latex": [
       "$\\displaystyle \\left \\|  f \\right \\|_{C^{r,\\alpha}}$"
      ],
      "text/plain": [
       "Holder_Space(r, α, f)"
      ]
     },
     "execution_count": 10,
     "metadata": {},
     "output_type": "execute_result"
    }
   ],
   "source": [
    "Holder_Space(r,alpha,f)"
   ]
  },
  {
   "cell_type": "code",
   "execution_count": null,
   "metadata": {},
   "outputs": [],
   "source": [
    "\n",
    "    "
   ]
  },
  {
   "cell_type": "code",
   "execution_count": 43,
   "metadata": {},
   "outputs": [],
   "source": [
    "class Sobolev_Embed(Function):\n",
    "    @classmethod\n",
    "    def eval(cls, k, p,q,l,n,f):\n",
    "        pass\n",
    "    def _latex(self, printer):\n",
    "         k,p,q,l,n,f = self.args\n",
    "         _k,_p,_q,_l,_f = printer._print(k),printer._print(p), printer._print(q),printer._print(l),printer._print(f)\n",
    "         if k==1 and l==0:\n",
    "             return r'\\left \\|  %s \\right \\|_{L^{ %s *}} \\leq \\left \\|  %s \\right \\|_{W^{1,%s}}' % (_f,_p,_f,_p)\n",
    "         if (1/p-1/q+(k-l)/n==0):\n",
    "             return r'\\left \\|  %s \\right \\|_{W^{%s,%s}} \\leq \\left \\|  %s \\right \\|_{W^{%s,%s}}' % (_f,_l,_q,_f,_k,_p)\n",
    "         if n<p*k and q+l==k-n/p:\n",
    "             return r'\\left \\|  %s \\right \\|_{C^{%s,%s}} \\leq \\left \\|  %s \\right \\|_{W^{%s,%s}}' % (_f,_q,_l,_f,_k,_p)\n",
    "             "
   ]
  },
  {
   "cell_type": "code",
   "execution_count": 55,
   "metadata": {},
   "outputs": [
    {
     "data": {
      "image/png": "[encoded data removed]",
      "text/latex": [
       "$\\displaystyle None$"
      ],
      "text/plain": [
       "Sobolev_Embed(1, 2, 3, 4, 1, f)"
      ]
     },
     "execution_count": 55,
     "metadata": {},
     "output_type": "execute_result"
    }
   ],
   "source": [
    "Sobolev_Embed(1,2,3,4,1,f)"
   ]
  },
  {
   "cell_type": "code",
   "execution_count": 56,
   "metadata": {},
   "outputs": [],
   "source": [
    "class Sobolev_Embed_auto(Function):\n",
    "    @classmethod\n",
    "    def eval(cls, k, p,n,f):\n",
    "        if k==1:\n",
    "            return Lp(Rational(p-1,p),f)\n",
    "        if n>=p*k:\n",
    "            return Sobolev_Space(k,p,f)\n",
    "    def _latex(self, printer):\n",
    "         k,p,n,f = self.args\n",
    "         _k,_p,_n,_f = printer._print(k),printer._print(p), printer._print(n),printer._print(f)\n",
    "         if k==1 and l==0:\n",
    "             return r'\\left \\|  %s \\right \\|_{L^{ %s *}} \\leq \\left \\|  %s \\right \\|_{W^{1,%s}}' % (_f,_p,_f,_p)\n",
    "         if (1/p-1/q+(k-l)/n==0):\n",
    "             return r'\\left \\|  %s \\right \\|_{W^{%s,%s}} \\leq \\left \\|  %s \\right \\|_{W^{%s,%s}}' % (_f,_l,_q,_f,_k,_p)\n",
    "         if n<p*k and q+l==k-n/p:\n",
    "             return r'\\left \\|  %s \\right \\|_{C^{%s,%s}} \\leq \\left \\|  %s \\right \\|_{W^{%s,%s}}' % (_f,_q,_l,_f,_k,_p)"
   ]
  },
  {
   "cell_type": "code",
   "execution_count": 57,
   "metadata": {},
   "outputs": [
    {
     "data": {
      "image/png": "[encoded data removed]",
      "text/latex": [
       "$\\displaystyle \\left \\| f \\right \\|_{L^{\\frac{1}{2}}}$"
      ],
      "text/plain": [
       "Lp(1/2, f)"
      ]
     },
     "execution_count": 57,
     "metadata": {},
     "output_type": "execute_result"
    }
   ],
   "source": [
    "Sobolev_Embed_auto(1,2,1,f)"
   ]
  }
 ],
 "metadata": {
  "kernelspec": {
   "display_name": "Python 3.8.8 64-bit ('base': conda)",
   "language": "python",
   "name": "python3"
  },
  "language_info": {
   "codemirror_mode": {
    "name": "ipython",
    "version": 3
   },
   "file_extension": ".py",
   "mimetype": "text/x-python",
   "name": "python",
   "nbconvert_exporter": "python",
   "pygments_lexer": "ipython3",
   "version": "3.8.8"
  },
  "orig_nbformat": 4,
  "vscode": {
   "interpreter": {
    "hash": "2c7381590f706752d836b9a448b90c34fae300fbf3dc9d730d2ea58ac2b7cd66"
   }
  }
 },
 "nbformat": 4,
 "nbformat_minor": 2
}
