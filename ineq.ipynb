{
 "cells": [
  {
   "cell_type": "code",
   "execution_count": 16,
   "metadata": {},
   "outputs": [],
   "source": [
    "from sympy import *\n",
    "import inspect\n",
    "import numpy as np\n",
    "from fractions import Fraction\n",
    "init_printing()\n",
    "%run -i symbol_func_spaces.py\n"
   ]
  },
  {
   "cell_type": "code",
   "execution_count": 17,
   "metadata": {},
   "outputs": [],
   "source": [
    "s=Symbol(\"s\")\n",
    "p=Symbol(\"p\")\n",
    "n=Symbol(\"n\")\n",
    "q=Symbol(\"q\")\n",
    "f=Symbol(\"f\")\n",
    "g=Symbol(\"g\")\n",
    "alpha=Symbol(\"alpha\")\n",
    "r=Symbol(\"r\")\n",
    "k=Symbol(\"k\")\n",
    "l=Symbol(\"l\")"
   ]
  },
  {
   "cell_type": "code",
   "execution_count": 18,
   "metadata": {},
   "outputs": [
    {
     "data": {
      "image/png": "[encoded data removed]",
      "text/latex": [
       "$\\displaystyle \\left \\|  f \\right \\|_{C^{r,\\alpha}}$"
      ],
      "text/plain": [
       "Holder_Space(r, α, f)"
      ]
     },
     "execution_count": 18,
     "metadata": {},
     "output_type": "execute_result"
    }
   ],
   "source": [
    "Holder_Space(r,alpha,f)"
   ]
  },
  {
   "cell_type": "code",
   "execution_count": null,
   "metadata": {},
   "outputs": [],
   "source": [
    "\n",
    "    "
   ]
  },
  {
   "cell_type": "code",
   "execution_count": 4,
   "metadata": {},
   "outputs": [],
   "source": [
    "class Sobolev_Embed(Function):\n",
    "    @classmethod\n",
    "    def eval(cls, k, p,q,l,n,f):\n",
    "        pass\n",
    "    def _latex(self, printer):\n",
    "         k,p,q,l,n,f = self.args\n",
    "         _k,_p,_q,_l,_f = printer._print(k),printer._print(p), printer._print(q),printer._print(l),printer._print(f)\n",
    "         if k==1 and l==0:\n",
    "             return r'\\left \\|  %s \\right \\|_{L^{ %s *}} \\leq \\left \\|  %s \\right \\|_{W^{1,%s}}' % (_f,_p,_f,_p)\n",
    "         if (1/p-1/q+(k-l)/n==0):\n",
    "             return r'\\left \\|  %s \\right \\|_{W^{%s,%s}} \\leq \\left \\|  %s \\right \\|_{W^{%s,%s}}' % (_f,_l,_q,_f,_k,_p)\n",
    "         if n<p*k and q+l==k-n/p:\n",
    "             return r'\\left \\|  %s \\right \\|_{C^{%s,%s}} \\leq \\left \\|  %s \\right \\|_{W^{%s,%s}}' % (_f,_q,_l,_f,_k,_p)\n",
    "             "
   ]
  },
  {
   "cell_type": "code",
   "execution_count": 5,
   "metadata": {},
   "outputs": [
    {
     "data": {
      "image/png": "[encoded data removed]",
      "text/latex": [
       "$\\displaystyle None$"
      ],
      "text/plain": [
       "Sobolev_Embed(1, 2, 3, 4, 1, f)"
      ]
     },
     "execution_count": 5,
     "metadata": {},
     "output_type": "execute_result"
    }
   ],
   "source": [
    "Sobolev_Embed(1,2,3,4,1,f)"
   ]
  },
  {
   "cell_type": "code",
   "execution_count": 6,
   "metadata": {},
   "outputs": [],
   "source": [
    "class Sobolev_Embed_auto(Function):\n",
    "    @classmethod\n",
    "    def eval(cls, k, p,n,f):\n",
    "        res=[]\n",
    "        if 1<=p<n:\n",
    "            m=float(1/p-k/n)\n",
    "            q_1=np.linspace(0.01,float(1/p),10,dtype=float)\n",
    "            for i in range(len(q_1)):\n",
    "                l=Rational(float(k+n*q_1[i]-n*(1/p))).limit_denominator(100)\n",
    "                q=Rational(1/q_1[i]).limit_denominator(100)\n",
    "                res.append(Sobolev_Space(l,q,f))\n",
    "               \n",
    "        if k==1:\n",
    "            return Lp(Rational(p-1,p),f)\n",
    "        if n<p*k:\n",
    "            m= float(k-n/p)\n",
    "            r=np.linspace(0,m,10,dtype=float)\n",
    "            res=[]\n",
    "            for i in range(len(r)):\n",
    "                r_use=Rational(float(r[i])).limit_denominator(100)\n",
    "                alpha_use=Rational(m-r_use).limit_denominator(100)\n",
    "                res.append(Holder_Space(r_use, alpha_use,f))\n",
    "        return res  \n",
    "    def _latex(self, printer):\n",
    "         k,p,n,f = self.args\n",
    "         _k,_p,_n,_f = printer._print(k),printer._print(p), printer._print(n),printer._print(f)\n",
    "         if k==1 and l==0:\n",
    "             return r'\\left \\|  %s \\right \\|_{L^{ %s *}} \\leq \\left \\|  %s \\right \\|_{W^{1,%s}}' % (_f,_p,_f,_p)\n",
    "         if (1/p-1/q+(k-l)/n==0):\n",
    "             return r'\\left \\|  %s \\right \\|_{W^{%s,%s}} \\leq \\left \\|  %s \\right \\|_{W^{%s,%s}}' % (_f,_l,_q,_f,_k,_p)\n",
    "         if n<p*k and q+l==k-n/p:\n",
    "             return r'\\left \\|  %s \\right \\|_{C^{%s,%s}} \\leq \\left \\|  %s \\right \\|_{W^{%s,%s}}' % (_f,_q,_l,_f,_k,_p)"
   ]
  },
  {
   "cell_type": "code",
   "execution_count": null,
   "metadata": {},
   "outputs": [],
   "source": []
  },
  {
   "cell_type": "code",
   "execution_count": 9,
   "metadata": {},
   "outputs": [
    {
     "data": {
      "text/plain": [
       "'\\\\left[ \\\\left \\\\|  f^{2} \\\\right \\\\|_{C^{0,\\\\frac{3}{2}}}, \\\\  \\\\left \\\\|  f^{2} \\\\right \\\\|_{C^{\\\\frac{1}{6},\\\\frac{4}{3}}}, \\\\  \\\\left \\\\|  f^{2} \\\\right \\\\|_{C^{\\\\frac{1}{3},\\\\frac{7}{6}}}, \\\\  \\\\left \\\\|  f^{2} \\\\right \\\\|_{C^{\\\\frac{1}{2},1}}, \\\\  \\\\left \\\\|  f^{2} \\\\right \\\\|_{C^{\\\\frac{2}{3},\\\\frac{5}{6}}}, \\\\  \\\\left \\\\|  f^{2} \\\\right \\\\|_{C^{\\\\frac{5}{6},\\\\frac{2}{3}}}, \\\\  \\\\left \\\\|  f^{2} \\\\right \\\\|_{C^{1,\\\\frac{1}{2}}}, \\\\  \\\\left \\\\|  f^{2} \\\\right \\\\|_{C^{\\\\frac{7}{6},\\\\frac{1}{3}}}, \\\\  \\\\left \\\\|  f^{2} \\\\right \\\\|_{C^{\\\\frac{4}{3},\\\\frac{1}{6}}}, \\\\  \\\\left \\\\|  f^{2} \\\\right \\\\|_{C^{\\\\frac{3}{2},0}}\\\\right]'"
      ]
     },
     "execution_count": 9,
     "metadata": {},
     "output_type": "execute_result"
    }
   ],
   "source": [
    "Sobolev_Embed_auto(2,2,1,f**2)"
   ]
  },
  {
   "cell_type": "code",
   "execution_count": 8,
   "metadata": {},
   "outputs": [
    {
     "data": {
      "image/png": "[encoded data removed]",
      "text/latex": [
       "$\\displaystyle \\left[ \\left \\|  f \\right \\|_{W^{\\frac{1}{25},100}}, \\  \\left \\|  f \\right \\|_{W^{\\frac{25}{97},\\frac{450}{29}}}, \\  \\left \\|  f \\right \\|_{W^{\\frac{39}{82},\\frac{757}{90}}}, \\  \\left \\|  f \\right \\|_{W^{\\frac{52}{75},\\frac{75}{13}}}, \\  \\left \\|  f \\right \\|_{W^{\\frac{41}{45},\\frac{180}{41}}}, \\  \\left \\|  f \\right \\|_{W^{\\frac{35}{31},\\frac{287}{81}}}, \\  \\left \\|  f \\right \\|_{W^{\\frac{101}{75},\\frac{199}{67}}}, \\  \\left \\|  f \\right \\|_{W^{\\frac{97}{62},\\frac{225}{88}}}, \\  \\left \\|  f \\right \\|_{W^{\\frac{139}{78},\\frac{101}{45}}}, \\  \\left \\|  f \\right \\|_{W^{2,2}}\\right]$"
      ],
      "text/plain": [
       "⎡                                          ⎛25  450   ⎞               ⎛39  757\n",
       "⎢Sobolev_Space(1/25, 100, f), Sobolev_Space⎜──, ───, f⎟, Sobolev_Space⎜──, ───\n",
       "⎣                                          ⎝97   29   ⎠               ⎝82   90\n",
       "\n",
       "   ⎞               ⎛52  75   ⎞               ⎛41  180   ⎞               ⎛35  2\n",
       ", f⎟, Sobolev_Space⎜──, ──, f⎟, Sobolev_Space⎜──, ───, f⎟, Sobolev_Space⎜──, ─\n",
       "   ⎠               ⎝75  13   ⎠               ⎝45   41   ⎠               ⎝31   \n",
       "\n",
       "87   ⎞               ⎛101  199   ⎞               ⎛97  225   ⎞               ⎛1\n",
       "──, f⎟, Sobolev_Space⎜───, ───, f⎟, Sobolev_Space⎜──, ───, f⎟, Sobolev_Space⎜─\n",
       "81   ⎠               ⎝ 75   67   ⎠               ⎝62   88   ⎠               ⎝ \n",
       "\n",
       "39  101   ⎞                        ⎤\n",
       "──, ───, f⎟, Sobolev_Space(2, 2, f)⎥\n",
       "78   45   ⎠                        ⎦"
      ]
     },
     "execution_count": 8,
     "metadata": {},
     "output_type": "execute_result"
    }
   ],
   "source": [
    "Sobolev_Embed_auto(2,2,4,f)"
   ]
  },
  {
   "cell_type": "code",
   "execution_count": null,
   "metadata": {},
   "outputs": [],
   "source": [
    "class Sobolev_Embed_auto_bdd(Function):\n",
    "    @classmethod\n",
    "    def eval(cls, k, p,n,f):\n",
    "        res=[]\n",
    "        if 1<=p<n:\n",
    "            m=float(1/p-k/n)\n",
    "            q_1=np.linspace(0.01,float(1/p),10,dtype=float)\n",
    "            for i in range(len(q_1)):\n",
    "                l=float(k+n*q_1[i]-n*(1/p))\n",
    "                res.append(Sobolev_Space(Fraction.from_float(l),Fraction.from_float(1/q_1[i]),f))\n",
    "        if k==1:\n",
    "            return Lp(Rational(p-1,p),f)\n",
    "        if n<p*k:\n",
    "            m= float(k-n/p)\n",
    "            r=np.linspace(0,m,10,dtype=float)\n",
    "            res=[]\n",
    "            for i in range(len(r)):\n",
    "                res.append(Holder_Space(Fraction.from_float(r[i]), Fraction.from_float(m-r[i]),f))\n",
    "        return res  \n",
    "    def _latex(self, printer):\n",
    "         k,p,n,f = self.args\n",
    "         _k,_p,_n,_f = printer._print(k),printer._print(p), printer._print(n),printer._print(f)\n",
    "         if k==1 and l==0:\n",
    "             return r'\\left \\|  %s \\right \\|_{L^{ %s *}} \\leq \\left \\|  %s \\right \\|_{W^{1,%s}}' % (_f,_p,_f,_p)\n",
    "         if (1/p-1/q+(k-l)/n==0):\n",
    "             return r'\\left \\|  %s \\right \\|_{W^{%s,%s}} \\leq \\left \\|  %s \\right \\|_{W^{%s,%s}}' % (_f,_l,_q,_f,_k,_p)\n",
    "         if n<p*k and q+l==k-n/p:\n",
    "             return r'\\left \\|  %s \\right \\|_{C^{%s,%s}} \\leq \\left \\|  %s \\right \\|_{W^{%s,%s}}' % (_f,_q,_l,_f,_k,_p)"
   ]
  },
  {
   "cell_type": "code",
   "execution_count": 42,
   "metadata": {},
   "outputs": [],
   "source": [
    "class Holder_ineq(Function):\n",
    "    @classmethod\n",
    "    def eval(cls,r,f,g):\n",
    "        res=[]\n",
    "        if 1<=r<oo:\n",
    "            p=np.linspace(0.01,float(1/r),10,dtype=float)\n",
    "            for i in range(len(p)):\n",
    "                p_use= Rational(float(1/p[i])).limit_denominator(10)\n",
    "                q_1 =float(1/r)-p[i]\n",
    "                q_use= Rational(1/q_1).limit_denominator(10)\n",
    "                res.append(Lp(p_use,f)* Lp(q_use,g))\n",
    "        return res\n",
    "    def _latex(self, printer):\n",
    "         k,p,n,f = self.args\n",
    "         _k,_p,_n,_f = printer._print(k),printer._print(p), printer._print(n),printer._print(f)\n",
    "         if k==1 and l==0:\n",
    "             return r'\\left \\|  %s \\right \\|_{L^{ %s *}} \\leq \\left \\|  %s \\right \\|_{W^{1,%s}}' % (_f,_p,_f,_p)\n",
    "         if (1/p-1/q+(k-l)/n==0):\n",
    "             return r'\\left \\|  %s \\right \\|_{W^{%s,%s}} \\leq \\left \\|  %s \\right \\|_{W^{%s,%s}}' % (_f,_l,_q,_f,_k,_p)\n",
    "         if n<p*k and q+l==k-n/p:\n",
    "             return r'\\left \\|  %s \\right \\|_{C^{%s,%s}} \\leq \\left \\|  %s \\right \\|_{W^{%s,%s}}' % (_f,_q,_l,_f,_k,_p)"
   ]
  },
  {
   "cell_type": "code",
   "execution_count": 43,
   "metadata": {},
   "outputs": [
    {
     "name": "stderr",
     "output_type": "stream",
     "text": [
      "/tmp/ipykernel_6791/1175408373.py:10: RuntimeWarning: divide by zero encountered in double_scalars\n",
      "  q_use= Rational(1/q_1).limit_denominator(10)\n"
     ]
    },
    {
     "data": {
      "image/png": "[encoded data removed]",
      "text/latex": [
       "$\\displaystyle \\left[ \\left \\| g \\right \\|_{L^{2}} \\left \\| f \\right \\|_{L^{100}}, \\  \\left \\| g \\right \\|_{L^{\\frac{23}{10}}} \\left \\| f \\right \\|_{L^{\\frac{31}{2}}}, \\  \\left \\| g \\right \\|_{L^{\\frac{21}{8}}} \\left \\| f \\right \\|_{L^{\\frac{42}{5}}}, \\  \\left \\| g \\right \\|_{L^{\\frac{31}{10}}} \\left \\| f \\right \\|_{L^{\\frac{52}{9}}}, \\  \\left \\| g \\right \\|_{L^{\\frac{11}{3}}} \\left \\| f \\right \\|_{L^{\\frac{22}{5}}}, \\  \\left \\| f \\right \\|_{L^{\\frac{32}{9}}} \\left \\| g \\right \\|_{L^{\\frac{23}{5}}}, \\  \\left \\| f \\right \\|_{L^{3}} \\left \\| g \\right \\|_{L^{\\frac{49}{8}}}, \\  \\left \\| f \\right \\|_{L^{\\frac{23}{9}}} \\left \\| g \\right \\|_{L^{\\frac{46}{5}}}, \\  \\left \\| f \\right \\|_{L^{\\frac{9}{4}}} \\left \\| g \\right \\|_{L^{\\frac{147}{8}}}, \\  \\left \\| g \\right \\|_{L^{0}} \\left \\| f \\right \\|_{L^{2}}\\right]$"
      ],
      "text/plain": [
       "⎡                       ⎛23   ⎞                                         ⎛31   \n",
       "⎢Lp(2, g)⋅Lp(100, f), Lp⎜──, g⎟⋅Lp(31/2, f), Lp(21/8, g)⋅Lp(42/5, f), Lp⎜──, g\n",
       "⎣                       ⎝10   ⎠                                         ⎝10   \n",
       "\n",
       "⎞                                                                             \n",
       "⎟⋅Lp(52/9, f), Lp(11/3, g)⋅Lp(22/5, f), Lp(32/9, f)⋅Lp(23/5, g), Lp(3, f)⋅Lp(4\n",
       "⎠                                                                             \n",
       "\n",
       "                                                                            ⎤\n",
       "9/8, g), Lp(23/9, f)⋅Lp(46/5, g), Lp(9/4, f)⋅Lp(147/8, g), Lp(0, g)⋅Lp(2, f)⎥\n",
       "                                                                            ⎦"
      ]
     },
     "execution_count": 43,
     "metadata": {},
     "output_type": "execute_result"
    }
   ],
   "source": [
    "Holder_ineq(2,f,g)"
   ]
  }
 ],
 "metadata": {
  "kernelspec": {
   "display_name": "Python 3.8.8 64-bit ('base': conda)",
   "language": "python",
   "name": "python3"
  },
  "language_info": {
   "codemirror_mode": {
    "name": "ipython",
    "version": 3
   },
   "file_extension": ".py",
   "mimetype": "text/x-python",
   "name": "python",
   "nbconvert_exporter": "python",
   "pygments_lexer": "ipython3",
   "version": "3.8.8"
  },
  "orig_nbformat": 4,
  "vscode": {
   "interpreter": {
    "hash": "2c7381590f706752d836b9a448b90c34fae300fbf3dc9d730d2ea58ac2b7cd66"
   }
  }
 },
 "nbformat": 4,
 "nbformat_minor": 2
}
