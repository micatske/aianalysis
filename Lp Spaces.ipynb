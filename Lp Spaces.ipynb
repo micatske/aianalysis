{
 "cells": [
  {
   "cell_type": "code",
   "execution_count": 52,
   "id": "67795b34",
   "metadata": {},
   "outputs": [],
   "source": [
    "from sympy import *\n",
    "import inspect\n",
    "f,g=Function(\"f\",real=True),Function(\"g\",real=True)\n",
    "x=Symbol(\"x\")\n",
    "xi=Symbol(\"xi\")\n",
    "Ff=Function(\"Ff\")\n",
    "s=Symbol(\"s\")\n",
    "p=Symbol(\"p\")\n",
    "\n",
    "##print(inspect.getsource(Function))"
   ]
  },
  {
   "cell_type": "code",
   "execution_count": 53,
   "id": "f68b48ba",
   "metadata": {},
   "outputs": [],
   "source": [
    "class Lp(Function):\n",
    "    nargs = (1, 2)\n",
    "    @classmethod\n",
    "    def eval(cls, p,f):\n",
    "        if p.is_Number:\n",
    "            if p.is_zero:\n",
    "                return oo\n",
    "            elif p is S.Infinity:\n",
    "                return maximum(f(x),x) #TBD\n",
    "        else:\n",
    "                return  (integrate(Abs(f(x))**p,x))**(1/p)\n",
    "        \n",
    "\n"
   ]
  },
  {
   "cell_type": "code",
   "execution_count": 54,
   "id": "9b9ad30a",
   "metadata": {},
   "outputs": [
    {
     "data": {
      "text/latex": [
       "$\\displaystyle \\left(\\int \\left|{f{\\left(x \\right)}}\\right|^{p}\\, dx\\right)^{\\frac{1}{p}}$"
      ],
      "text/plain": [
       "Integral(Abs(f(x))**p, x)**(1/p)"
      ]
     },
     "execution_count": 54,
     "metadata": {},
     "output_type": "execute_result"
    }
   ],
   "source": [
    "\n",
    "Lp(p,f)"
   ]
  },
  {
   "cell_type": "code",
   "execution_count": 48,
   "id": "f2fc111c",
   "metadata": {},
   "outputs": [],
   "source": [
    "class FHs(Function):\n",
    "    nargs = (1, 2)\n",
    "    @classmethod\n",
    "    def eval(cls, s,Ff):\n",
    "        if s.is_Number:\n",
    "            if s.is_zero:\n",
    "                return oo\n",
    "            elif s is S.Infinity:\n",
    "                return maximum(Ff(xi),xi) #TBD\n",
    "        else:\n",
    "                return ( integrate(Abs(xi)**(2*s) * Abs(Ff(xi))**2,xi))**(1/2)\n",
    "        "
   ]
  },
  {
   "cell_type": "code",
   "execution_count": 49,
   "id": "f1f117ca",
   "metadata": {},
   "outputs": [
    {
     "data": {
      "text/latex": [
       "$\\displaystyle \\left(\\int \\left|{\\xi}\\right|^{2 s} \\left|{\\operatorname{Ff}{\\left(\\xi \\right)}}\\right|^{2}\\, d\\xi\\right)^{0.5}$"
      ],
      "text/plain": [
       "Integral(Abs(xi)**(2*s)*Abs(Ff(xi))**2, xi)**0.5"
      ]
     },
     "execution_count": 49,
     "metadata": {},
     "output_type": "execute_result"
    }
   ],
   "source": [
    "\n",
    "FHs(s,Ff)"
   ]
  }
 ],
 "metadata": {
  "kernelspec": {
   "display_name": "Python 3.9.5 ('base')",
   "language": "python",
   "name": "python3"
  },
  "language_info": {
   "codemirror_mode": {
    "name": "ipython",
    "version": 3
   },
   "file_extension": ".py",
   "mimetype": "text/x-python",
   "name": "python",
   "nbconvert_exporter": "python",
   "pygments_lexer": "ipython3",
   "version": "3.9.5"
  },
  "vscode": {
   "interpreter": {
    "hash": "e7604e8ec5f09e490e10161e37a4725039efd3ab703d81b1b8a1e00d6741866c"
   }
  }
 },
 "nbformat": 4,
 "nbformat_minor": 5
}
