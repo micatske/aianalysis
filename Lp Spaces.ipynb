{
 "cells": [
  {
   "cell_type": "code",
   "execution_count": 39,
   "id": "67795b34",
   "metadata": {},
   "outputs": [],
   "source": [
    "from sympy import *\n",
    "import inspect\n",
    "f,g=Function(\"f\",real=True),Function(\"g\",real=True)\n",
    "x=Symbol(\"x\")\n",
    "xi=Symbol(\"xi\")\n",
    "Ff=Function(\"Ff\")\n",
    "\n",
    "##print(inspect.getsource(Function))"
   ]
  },
  {
   "cell_type": "code",
   "execution_count": 17,
   "id": "f68b48ba",
   "metadata": {},
   "outputs": [],
   "source": [
    "class Lp(Function):\n",
    "    nargs = (1, 2)\n",
    "    @classmethod\n",
    "    def eval(cls, p,f):\n",
    "        if p.is_Number:\n",
    "            if p.is_zero:\n",
    "                return oo\n",
    "            elif p is S.Infinity:\n",
    "                return maximum(f(x),x) #TBD\n",
    "            elif p>0:\n",
    "                return  (integrate(Abs(f(x))**p,(x,-oo,oo)))**(1/p)\n",
    "            else:\n",
    "                return\n",
    "\n"
   ]
  },
  {
   "cell_type": "code",
   "execution_count": 19,
   "id": "9b9ad30a",
   "metadata": {},
   "outputs": [
    {
     "data": {
      "text/latex": [
       "$\\displaystyle \\sqrt[4]{\\int\\limits_{-\\infty}^{\\infty} f^{4}{\\left(x \\right)}\\, dx}$"
      ],
      "text/plain": [
       "Integral(f(x)**4, (x, -oo, oo))**(1/4)"
      ]
     },
     "execution_count": 19,
     "metadata": {},
     "output_type": "execute_result"
    }
   ],
   "source": [
    "p=2\n",
    "Lp(4,f)"
   ]
  },
  {
   "cell_type": "code",
   "execution_count": 42,
   "id": "f2fc111c",
   "metadata": {},
   "outputs": [],
   "source": [
    "class FHs(Function):\n",
    "    nargs = (1, 2)\n",
    "    @classmethod\n",
    "    def eval(cls, s,Ff):\n",
    "        if s.is_Number:\n",
    "            if s.is_zero:\n",
    "                return oo\n",
    "            elif s is S.Infinity:\n",
    "                return maximum(Ff(xi),xi) #TBD\n",
    "            elif s >0:\n",
    "                return ( integrate(Abs(xi)**(2*s) * Abs(Ff(xi))**2,(xi,-oo,oo)))**(1/2)\n",
    "            else:\n",
    "                return"
   ]
  },
  {
   "cell_type": "code",
   "execution_count": 43,
   "id": "f1f117ca",
   "metadata": {},
   "outputs": [
    {
     "data": {
      "text/latex": [
       "$\\displaystyle \\left(\\int\\limits_{-\\infty}^{\\infty} \\left|{\\xi}\\right|^{4} \\left|{\\operatorname{Ff}{\\left(\\xi \\right)}}\\right|^{2}\\, d\\xi\\right)^{0.5}$"
      ],
      "text/plain": [
       "Integral(Abs(xi)**4*Abs(Ff(xi))**2, (xi, -oo, oo))**0.5"
      ]
     },
     "execution_count": 43,
     "metadata": {},
     "output_type": "execute_result"
    }
   ],
   "source": [
    "\n",
    "FHs(2,Ff)"
   ]
  }
 ],
 "metadata": {
  "kernelspec": {
   "display_name": "Python 3.9.5 ('base')",
   "language": "python",
   "name": "python3"
  },
  "language_info": {
   "codemirror_mode": {
    "name": "ipython",
    "version": 3
   },
   "file_extension": ".py",
   "mimetype": "text/x-python",
   "name": "python",
   "nbconvert_exporter": "python",
   "pygments_lexer": "ipython3",
   "version": "3.9.5"
  },
  "vscode": {
   "interpreter": {
    "hash": "e7604e8ec5f09e490e10161e37a4725039efd3ab703d81b1b8a1e00d6741866c"
   }
  }
 },
 "nbformat": 4,
 "nbformat_minor": 5
}
