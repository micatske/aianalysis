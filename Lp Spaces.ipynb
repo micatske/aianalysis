{
 "cells": [
  {
   "cell_type": "code",
   "execution_count": 13,
   "id": "67795b34",
   "metadata": {},
   "outputs": [],
   "source": [
    "from sympy import *\n",
    "import inspect\n",
    "f,g=Function(\"f\",real=True),Function(\"g\",real=True)\n",
    "x=Symbol(\"x\")\n",
    "\n",
    "##print(inspect.getsource(Function))"
   ]
  },
  {
   "cell_type": "code",
   "execution_count": 16,
   "id": "f68b48ba",
   "metadata": {},
   "outputs": [],
   "source": [
    "class Lp(Function):\n",
    "    nargs = (1, 2)\n",
    "    @classmethod\n",
    "    def eval(cls, p,f):\n",
    "        if p.is_Number:\n",
    "            if p.is_zero:\n",
    "                return oo\n",
    "            elif p is S.Infinity:\n",
    "                return maximum(f(x),x)\n",
    "            elif p >0:\n",
    "                return integrate(Abs(f(x))**p,(x,-oo,oo))\n",
    "            else:\n",
    "                return\n",
    "\n"
   ]
  },
  {
   "cell_type": "code",
   "execution_count": 15,
   "id": "9b9ad30a",
   "metadata": {},
   "outputs": [
    {
     "data": {
      "text/latex": [
       "$\\displaystyle \\int\\limits_{-\\infty}^{\\infty} f^{2}{\\left(x \\right)} \\left|{f{\\left(x \\right)}}\\right|\\, dx$"
      ],
      "text/plain": [
       "Integral(f(x)**2*Abs(f(x)), (x, -oo, oo))"
      ]
     },
     "execution_count": 15,
     "metadata": {},
     "output_type": "execute_result"
    }
   ],
   "source": [
    "p=2\n",
    "Lp(3,f)"
   ]
  }
 ],
 "metadata": {
  "kernelspec": {
   "display_name": "Python 3.9.5 ('base')",
   "language": "python",
   "name": "python3"
  },
  "language_info": {
   "codemirror_mode": {
    "name": "ipython",
    "version": 3
   },
   "file_extension": ".py",
   "mimetype": "text/x-python",
   "name": "python",
   "nbconvert_exporter": "python",
   "pygments_lexer": "ipython3",
   "version": "3.9.5"
  },
  "vscode": {
   "interpreter": {
    "hash": "e7604e8ec5f09e490e10161e37a4725039efd3ab703d81b1b8a1e00d6741866c"
   }
  }
 },
 "nbformat": 4,
 "nbformat_minor": 5
}
