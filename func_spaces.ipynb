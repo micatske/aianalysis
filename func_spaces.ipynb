{
 "cells": [
  {
   "cell_type": "code",
   "execution_count": 1,
   "id": "67795b34",
   "metadata": {},
   "outputs": [],
   "source": [
    "from sympy import *\n",
    "import inspect\n",
    "from fractions import Fraction\n",
    "import symbol_func_spaces\n",
    "init_printing()\n",
    "\n",
    "\n",
    "#f,g=Function(\"f\",real=True),Function(\"g\",real=True)\n",
    "x=Symbol(\"x\")\n",
    "xi=Symbol(\"xi\")\n",
    "#F_f=Function(\"fhat\")\n",
    "s=Symbol(\"s\")\n",
    "p=Symbol(\"p\")\n",
    "\n",
    "##print(inspect.getsource(Function))"
   ]
  },
  {
   "cell_type": "markdown",
   "id": "eabf5b8b",
   "metadata": {},
   "source": []
  },
  {
   "cell_type": "code",
   "execution_count": 13,
   "id": "f68b48ba",
   "metadata": {},
   "outputs": [],
   "source": [
    "class Lp(Function):\n",
    "    nargs = (1, 2)\n",
    "    @classmethod\n",
    "    def eval(cls, p,f):\n",
    "        if p.is_Number:\n",
    "            if p.is_zero:\n",
    "                return oo\n",
    "            elif p is S.Infinity:\n",
    "                return maximum(f(x),x) #TBD\n",
    "        else:\n",
    "                return  (integrate(Abs(f(x))**p,x))**(1/p)\n",
    "    def _latex(self, printer):\n",
    "      p, f = self.args\n",
    "      _p, _f = printer._print(p), printer._print(f)\n",
    "      return r'\\left \\| %s \\right \\|_ {L^{%s}}' % (_p, _f)"
   ]
  },
  {
   "cell_type": "code",
   "execution_count": 15,
   "id": "a8acc688",
   "metadata": {},
   "outputs": [],
   "source": [
    "class Lp1(Function):\n",
    "    nargs = (1, 2)\n",
    "    @classmethod\n",
    "    def _latex(self, printer):\n",
    "      p, f = self.args\n",
    "      _p, _f = printer._print(p), printer._print(f)\n",
    "      return r'\\left \\| %s \\right \\|_ {L^{%s}}' % (_p, _f)"
   ]
  },
  {
   "cell_type": "code",
   "execution_count": null,
   "id": "307a9ceb",
   "metadata": {},
   "outputs": [],
   "source": [
    "r'\\left \\| %s \\right \\|_ {L^{%s}}' % (\"f\", )"
   ]
  },
  {
   "cell_type": "code",
   "execution_count": 26,
   "id": "cf958f05",
   "metadata": {},
   "outputs": [
    {
     "name": "stdout",
     "output_type": "stream",
     "text": [
      "\\left \\| f \\right \\|_{L^{p}}\n"
     ]
    }
   ],
   "source": [
    "class Lp2(Function):\n",
    "    @classmethod\n",
    "    def eval(cls, p, f):\n",
    "       pass\n",
    "\n",
    "    def _latex(self, printer):\n",
    "        p, f = self.args\n",
    "        _p, _f = printer._print(p), printer._print(f)\n",
    "        return r'\\left \\| %s \\right \\|_{L^{%s}}' % (_f, _p)\n",
    "\n",
    "p, f = symbols('p f')\n",
    "print(latex(Lp2(p, f))) "
   ]
  },
  {
   "cell_type": "code",
   "execution_count": 2,
   "id": "6e662bee",
   "metadata": {},
   "outputs": [
    {
     "ename": "NameError",
     "evalue": "name 'Lp1' is not defined",
     "output_type": "error",
     "traceback": [
      "\u001b[0;31m---------------------------------------------------------------------------\u001b[0m",
      "\u001b[0;31mNameError\u001b[0m                                 Traceback (most recent call last)",
      "\u001b[1;32m/home/yangliu/ml/aimath/func_spaces.ipynb Cell 7\u001b[0m in \u001b[0;36m<cell line: 1>\u001b[0;34m()\u001b[0m\n\u001b[0;32m----> <a href='vscode-notebook-cell:/home/yangliu/ml/aimath/func_spaces.ipynb#W5sZmlsZQ%3D%3D?line=0'>1</a>\u001b[0m \u001b[39mprint\u001b[39m(latex(Lp1(p,s)))\n",
      "\u001b[0;31mNameError\u001b[0m: name 'Lp1' is not defined"
     ]
    }
   ],
   "source": [
    "print(latex(Lp1(p,s)))"
   ]
  },
  {
   "cell_type": "code",
   "execution_count": 3,
   "id": "9b9ad30a",
   "metadata": {},
   "outputs": [
    {
     "data": {
      "image/png": "[encoded data removed]",
      "text/latex": [
       "$\\displaystyle \\left(\\int \\left|{f{\\left(x \\right)}}\\right|^{p}\\, dx\\right)^{\\frac{1}{p}}$"
      ],
      "text/plain": [
       "     ______________\n",
       "    ╱ ⌠            \n",
       "   ╱  ⎮       p    \n",
       "p ╱   ⎮ │f(x)│  dx \n",
       "╲╱    ⌡            "
      ]
     },
     "execution_count": 3,
     "metadata": {},
     "output_type": "execute_result"
    }
   ],
   "source": [
    "\n",
    "Lp(p,f)"
   ]
  },
  {
   "cell_type": "code",
   "execution_count": 32,
   "id": "f2fc111c",
   "metadata": {},
   "outputs": [],
   "source": [
    "class F_Hs(Function):\n",
    "    nargs = (1, 2)\n",
    "    @classmethod\n",
    "    def eval(cls, s,Ff):\n",
    "        if s.is_Number:\n",
    "            if s.is_zero:\n",
    "                return oo\n",
    "            elif s is S.Infinity:\n",
    "                return maximum(Ff(xi),xi) #TBD\n",
    "        else:\n",
    "                return ( integrate(Abs(xi)**(2*s) * Abs(Ff(xi))**2,xi))**(1/2)\n",
    "        "
   ]
  },
  {
   "cell_type": "code",
   "execution_count": 33,
   "id": "f1f117ca",
   "metadata": {},
   "outputs": [
    {
     "data": {
      "image/png": "[encoded data removed]",
      "text/latex": [
       "$\\displaystyle \\left(\\int \\left|{\\xi}\\right|^{2 s} \\left|{\\hat{f}{\\left(\\xi \\right)}}\\right|^{2}\\, d\\xi\\right)^{0.5}$"
      ],
      "text/plain": [
       "                     0.5\n",
       "⎛⌠                  ⎞   \n",
       "⎜⎮    2⋅s       2   ⎟   \n",
       "⎜⎮ │ξ│   ⋅│f̂(ξ)│  dξ⎟   \n",
       "⎝⌡                  ⎠   "
      ]
     },
     "execution_count": 33,
     "metadata": {},
     "output_type": "execute_result"
    }
   ],
   "source": [
    "\n",
    "F_Hs(s,F_f)"
   ]
  },
  {
   "cell_type": "code",
   "execution_count": 35,
   "id": "e5a9d56b",
   "metadata": {},
   "outputs": [],
   "source": [
    "class F_HS(Function):\n",
    "    nargs = (1, 2)\n",
    "    @classmethod\n",
    "    def eval(cls, s,Ff):\n",
    "        if s.is_Number:\n",
    "            if s.is_zero:\n",
    "                return oo\n",
    "            elif s is S.Infinity:\n",
    "                return maximum(Ff(xi),xi) #TBD\n",
    "        else:\n",
    "                return ( integrate((1+Abs(xi)**2)**(s) * Abs(Ff(xi))**2,xi))**(1/2)"
   ]
  },
  {
   "cell_type": "code",
   "execution_count": 36,
   "id": "5df8da28",
   "metadata": {},
   "outputs": [
    {
     "data": {
      "image/png": "[encoded data removed]",
      "text/latex": [
       "$\\displaystyle \\left(\\int \\left(\\left|{\\xi}\\right|^{2} + 1\\right)^{s} \\left|{\\hat{f}{\\left(\\xi \\right)}}\\right|^{2}\\, d\\xi\\right)^{0.5}$"
      ],
      "text/plain": [
       "                          0.5\n",
       "⎛⌠                       ⎞   \n",
       "⎜⎮           s           ⎟   \n",
       "⎜⎮ ⎛   2    ⎞        2   ⎟   \n",
       "⎜⎮ ⎝│ξ│  + 1⎠ ⋅│f̂(ξ)│  dξ⎟   \n",
       "⎝⌡                       ⎠   "
      ]
     },
     "execution_count": 36,
     "metadata": {},
     "output_type": "execute_result"
    }
   ],
   "source": [
    "F_HS(s,F_f)"
   ]
  },
  {
   "cell_type": "code",
   "execution_count": 28,
   "id": "c55549de",
   "metadata": {},
   "outputs": [],
   "source": [
    "s=Symbol(\"s\")\n",
    "p=Symbol(\"p\")\n",
    "f=Symbol(\"f\")\n",
    "k=Symbol(\"k\")"
   ]
  },
  {
   "cell_type": "code",
   "execution_count": null,
   "id": "8fb5648c",
   "metadata": {},
   "outputs": [],
   "source": []
  },
  {
   "cell_type": "code",
   "execution_count": 3,
   "id": "1dc15e25",
   "metadata": {},
   "outputs": [],
   "source": [
    "%run -i symbol_func_spaces.py"
   ]
  },
  {
   "cell_type": "code",
   "execution_count": 5,
   "id": "c8ef1e5e",
   "metadata": {},
   "outputs": [
    {
     "data": {
      "image/png": "[encoded data removed]",
      "text/latex": [
       "$\\displaystyle \\left \\| f^{2} + 2 f + 1 \\right \\|_{L^{p}}$"
      ],
      "text/plain": [
       "  ⎛    2          ⎞\n",
       "Lp⎝p, f  + 2⋅f + 1⎠"
      ]
     },
     "execution_count": 5,
     "metadata": {},
     "output_type": "execute_result"
    }
   ],
   "source": [
    "Lp(p,f**2+2*f+1)\n",
    "\n"
   ]
  },
  {
   "cell_type": "code",
   "execution_count": 12,
   "id": "125b23e6",
   "metadata": {},
   "outputs": [
    {
     "data": {
      "image/png": "[encoded data removed]",
      "text/latex": [
       "$\\displaystyle \\left \\|  f \\right \\|_{\\dot{H}^{s}}$"
      ],
      "text/plain": [
       "hom_Hs(s, f)"
      ]
     },
     "execution_count": 12,
     "metadata": {},
     "output_type": "execute_result"
    }
   ],
   "source": [
    "hom_Hs(s,f)"
   ]
  },
  {
   "cell_type": "code",
   "execution_count": 13,
   "id": "4eccf05b",
   "metadata": {},
   "outputs": [
    {
     "data": {
      "image/png": "[encoded data removed]",
      "text/latex": [
       "$\\displaystyle \\left \\|  f \\right \\|_{H^{s}}$"
      ],
      "text/plain": [
       "inhom_Hs(s, f)"
      ]
     },
     "execution_count": 13,
     "metadata": {},
     "output_type": "execute_result"
    }
   ],
   "source": [
    "inhom_Hs(s,f)\n"
   ]
  },
  {
   "cell_type": "code",
   "execution_count": 14,
   "id": "83a4c09f",
   "metadata": {},
   "outputs": [
    {
     "data": {
      "image/png": "[encoded data removed]",
      "text/latex": [
       "$\\displaystyle \\left \\|  f \\right \\|_{W^{k,p}}$"
      ],
      "text/plain": [
       "Sobolev(k, p, f)"
      ]
     },
     "execution_count": 14,
     "metadata": {},
     "output_type": "execute_result"
    }
   ],
   "source": [
    "Sobolev(k,p,f)"
   ]
  }
 ],
 "metadata": {
  "kernelspec": {
   "display_name": "Python 3.9.5 ('base')",
   "language": "python",
   "name": "python3"
  },
  "language_info": {
   "codemirror_mode": {
    "name": "ipython",
    "version": 3
   },
   "file_extension": ".py",
   "mimetype": "text/x-python",
   "name": "python",
   "nbconvert_exporter": "python",
   "pygments_lexer": "ipython3",
   "version": "3.9.5"
  },
  "vscode": {
   "interpreter": {
    "hash": "e7604e8ec5f09e490e10161e37a4725039efd3ab703d81b1b8a1e00d6741866c"
   }
  }
 },
 "nbformat": 4,
 "nbformat_minor": 5
}
