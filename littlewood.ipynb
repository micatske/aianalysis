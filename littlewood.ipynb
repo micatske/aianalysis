{
 "cells": [
  {
   "cell_type": "code",
   "execution_count": 85,
   "metadata": {},
   "outputs": [],
   "source": [
    "from sympy import *\n",
    "import inspect\n",
    "import numpy as np\n",
    "from fractions import Fraction\n",
    "init_printing()\n",
    "%run -i symbol_func_spaces.py\n"
   ]
  },
  {
   "cell_type": "code",
   "execution_count": 86,
   "metadata": {},
   "outputs": [],
   "source": [
    "s=Symbol(\"s\")\n",
    "p=Symbol(\"p\")\n",
    "n=Symbol(\"n\")\n",
    "q=Symbol(\"q\")\n",
    "f=Symbol(\"f\")\n",
    "g=Symbol(\"g\")\n",
    "alpha=Symbol(\"alpha\")\n",
    "r=Symbol(\"r\")\n",
    "k=Symbol(\"k\")\n",
    "l=Symbol(\"l\")\n",
    "j=Symbol(\"j\")"
   ]
  },
  {
   "cell_type": "code",
   "execution_count": 87,
   "metadata": {},
   "outputs": [],
   "source": [
    "nabla=Symbol(r'\\nabla')\n",
    "lap=Symbol(r'\\triangle')"
   ]
  },
  {
   "cell_type": "code",
   "execution_count": 88,
   "metadata": {},
   "outputs": [
    {
     "data": {
      "image/png": "[encoded data removed]",
      "text/latex": [
       "$\\displaystyle \\nabla$"
      ],
      "text/plain": [
       "\\nabla"
      ]
     },
     "execution_count": 88,
     "metadata": {},
     "output_type": "execute_result"
    }
   ],
   "source": [
    "nabla"
   ]
  },
  {
   "cell_type": "code",
   "execution_count": null,
   "metadata": {},
   "outputs": [],
   "source": []
  },
  {
   "cell_type": "code",
   "execution_count": null,
   "metadata": {},
   "outputs": [],
   "source": []
  },
  {
   "cell_type": "code",
   "execution_count": 89,
   "metadata": {},
   "outputs": [],
   "source": [
    "class Freq_proj_base(Function):\n",
    "    @classmethod\n",
    "    def eval(cls, k, f):\n",
    "       pass\n",
    "\n",
    "    def _latex(self, printer):\n",
    "        k, f = self.args\n",
    "        _k, _f = printer._print(k), printer._print(f)    \n",
    "        return r'P_{%s}%s' % (_k, _f)"
   ]
  },
  {
   "cell_type": "code",
   "execution_count": 90,
   "metadata": {},
   "outputs": [],
   "source": [
    "class Freq_proj(Function):\n",
    "    @classmethod\n",
    "    def eval(cls, k, f):\n",
    "        if f.has(nabla):\n",
    "            return 2**k *Freq_proj_base(k,f.args[1])\n",
    "        if f.has(lap):\n",
    "            return 2**(2*k) *Freq_proj_base(k,f.args[1])\n",
    "        else:\n",
    "             return Freq_proj_base(k,f)"
   ]
  },
  {
   "cell_type": "code",
   "execution_count": 91,
   "metadata": {},
   "outputs": [
    {
     "data": {
      "image/png": "[encoded data removed]",
      "text/latex": [
       "$\\displaystyle 4 P_{2}f$"
      ],
      "text/plain": [
       "4⋅Freq_proj_base(2, f)"
      ]
     },
     "execution_count": 91,
     "metadata": {},
     "output_type": "execute_result"
    }
   ],
   "source": [
    "Freq_proj(2,nabla*f)"
   ]
  },
  {
   "cell_type": "code",
   "execution_count": 92,
   "metadata": {},
   "outputs": [
    {
     "data": {
      "image/png": "[encoded data removed]",
      "text/latex": [
       "$\\displaystyle 2^{k} P_{k}f$"
      ],
      "text/plain": [
       " k                     \n",
       "2 ⋅Freq_proj_base(k, f)"
      ]
     },
     "execution_count": 92,
     "metadata": {},
     "output_type": "execute_result"
    }
   ],
   "source": [
    "Freq_proj(k,nabla*f) "
   ]
  },
  {
   "cell_type": "code",
   "execution_count": 93,
   "metadata": {},
   "outputs": [
    {
     "data": {
      "image/png": "[encoded data removed]",
      "text/latex": [
       "$\\displaystyle 2^{3 k} P_{k}f P_{k}g$"
      ],
      "text/plain": [
       " 3⋅k                                          \n",
       "2   ⋅Freq_proj_base(k, f)⋅Freq_proj_base(k, g)"
      ]
     },
     "execution_count": 93,
     "metadata": {},
     "output_type": "execute_result"
    }
   ],
   "source": [
    "Freq_proj(k,nabla*f)  * Freq_proj(k,lap*g)"
   ]
  },
  {
   "cell_type": "code",
   "execution_count": 94,
   "metadata": {},
   "outputs": [
    {
     "data": {
      "image/png": "[encoded data removed]",
      "text/latex": [
       "$\\displaystyle P_{k}f$"
      ],
      "text/plain": [
       "Freq_proj_base(k, f)"
      ]
     },
     "execution_count": 94,
     "metadata": {},
     "output_type": "execute_result"
    }
   ],
   "source": [
    "Freq_proj(k,f)"
   ]
  },
  {
   "cell_type": "code",
   "execution_count": 95,
   "metadata": {},
   "outputs": [
    {
     "data": {
      "image/png": "[encoded data removed]",
      "text/latex": [
       "$\\displaystyle \\sum_{k=-\\infty}^{\\infty} P_{k}f$"
      ],
      "text/plain": [
       "  ∞                        \n",
       " ___                       \n",
       " ╲                         \n",
       "  ╲                        \n",
       "  ╱    Freq_proj_base(k, f)\n",
       " ╱                         \n",
       " ‾‾‾                       \n",
       "k = -∞                     "
      ]
     },
     "execution_count": 95,
     "metadata": {},
     "output_type": "execute_result"
    }
   ],
   "source": [
    "summation(Freq_proj(k,f), (k, -oo, oo))"
   ]
  },
  {
   "cell_type": "code",
   "execution_count": 96,
   "metadata": {},
   "outputs": [
    {
     "data": {
      "image/png": "[encoded data removed]",
      "text/latex": [
       "$\\displaystyle 2^{k} P_{k}g$"
      ],
      "text/plain": [
       " k                     \n",
       "2 ⋅Freq_proj_base(k, g)"
      ]
     },
     "execution_count": 96,
     "metadata": {},
     "output_type": "execute_result"
    }
   ],
   "source": [
    "Freq_proj(k,nabla*g) "
   ]
  },
  {
   "cell_type": "code",
   "execution_count": 97,
   "metadata": {},
   "outputs": [
    {
     "data": {
      "image/png": "[encoded data removed]",
      "text/latex": [
       "$\\displaystyle \\sum_{k=-\\infty}^{\\infty} 2^{k} P_{k}g$"
      ],
      "text/plain": [
       "  ∞                           \n",
       " ___                          \n",
       " ╲                            \n",
       "  ╲     k                     \n",
       "  ╱    2 ⋅Freq_proj_base(k, g)\n",
       " ╱                            \n",
       " ‾‾‾                          \n",
       "k = -∞                        "
      ]
     },
     "execution_count": 97,
     "metadata": {},
     "output_type": "execute_result"
    }
   ],
   "source": [
    "summation(Freq_proj(k,nabla*g), (k, -oo, oo))"
   ]
  },
  {
   "cell_type": "code",
   "execution_count": 98,
   "metadata": {},
   "outputs": [],
   "source": [
    "class Paraproduct(Function):\n",
    "    @classmethod\n",
    "    def eval(cls,f,g):\n",
    "       return Para_hh(f,g) + Para_hl(f,g) + Para_lh(f,g)"
   ]
  },
  {
   "cell_type": "code",
   "execution_count": 99,
   "metadata": {},
   "outputs": [
    {
     "data": {
      "image/png": "[encoded data removed]",
      "text/latex": [
       "$\\displaystyle \\sum_{k=-\\infty}^{\\infty} 2^{k} P_{k}f P_{k}g + \\sum_{\\substack{-\\infty \\leq j \\leq k - 10\\\\-\\infty \\leq k \\leq \\infty}} 2^{j} P_{j}f P_{k}g + \\sum_{\\substack{-\\infty \\leq j \\leq k - 10\\\\-\\infty \\leq k \\leq \\infty}} 2^{k} P_{j}g P_{k}f$"
      ],
      "text/plain": [
       "  ∞                                                     ∞    k - 10           \n",
       " ___                                                   ___    ___             \n",
       " ╲                                                     ╲      ╲               \n",
       "  ╲     k                                               ╲      ╲     j        \n",
       "  ╱    2 ⋅Freq_proj_base(k, f)⋅Freq_proj_base(k, g) +   ╱      ╱    2 ⋅Freq_pr\n",
       " ╱                                                     ╱      ╱               \n",
       " ‾‾‾                                                   ‾‾‾    ‾‾‾             \n",
       "k = -∞                                                k = -∞ j = -∞           \n",
       "\n",
       "                                       ∞    k - 10                            \n",
       "                                      ___    ___                              \n",
       "                                      ╲      ╲                                \n",
       "                                       ╲      ╲     k                         \n",
       "oj_base(j, f)⋅Freq_proj_base(k, g) +   ╱      ╱    2 ⋅Freq_proj_base(j, g)⋅Fre\n",
       "                                      ╱      ╱                                \n",
       "                                      ‾‾‾    ‾‾‾                              \n",
       "                                     k = -∞ j = -∞                            \n",
       "\n",
       "                 \n",
       "                 \n",
       "                 \n",
       "                 \n",
       "q_proj_base(k, f)\n",
       "                 \n",
       "                 \n",
       "                 "
      ]
     },
     "execution_count": 99,
     "metadata": {},
     "output_type": "execute_result"
    }
   ],
   "source": [
    "Paraproduct(nabla*f,g)"
   ]
  },
  {
   "cell_type": "code",
   "execution_count": 106,
   "metadata": {},
   "outputs": [
    {
     "data": {
      "text/plain": [
       "'\\\\sum_{k=-\\\\infty}^{\\\\infty} 2^{3 k} P_{k}f P_{k}g + \\\\sum_{\\\\substack{-\\\\infty \\\\leq j \\\\leq k - 10\\\\\\\\-\\\\infty \\\\leq k \\\\leq \\\\infty}} 2^{j} 2^{2 k} P_{j}f P_{k}g + \\\\sum_{\\\\substack{-\\\\infty \\\\leq j \\\\leq k - 10\\\\\\\\-\\\\infty \\\\leq k \\\\leq \\\\infty}} 2^{2 j} 2^{k} P_{j}g P_{k}f'"
      ]
     },
     "execution_count": 106,
     "metadata": {},
     "output_type": "execute_result"
    }
   ],
   "source": [
    "latex(Paraproduct(nabla*f,lap*g))"
   ]
  },
  {
   "cell_type": "code",
   "execution_count": 101,
   "metadata": {},
   "outputs": [],
   "source": [
    "class Para_hh(Function):\n",
    "    @classmethod\n",
    "    def eval(cls,f,g):\n",
    "       return summation(Freq_proj(k,f)*Freq_proj(k,g), (k, -oo, oo))"
   ]
  },
  {
   "cell_type": "code",
   "execution_count": 102,
   "metadata": {},
   "outputs": [],
   "source": [
    "class Para_hl(Function):\n",
    "    @classmethod\n",
    "    def eval(cls,f,g):\n",
    "       return summation(summation(Freq_proj(k,f)*Freq_proj(j,g), (j, -oo,k-10)),(k, -oo, oo))"
   ]
  },
  {
   "cell_type": "code",
   "execution_count": 103,
   "metadata": {},
   "outputs": [
    {
     "data": {
      "image/png": "[encoded data removed]",
      "text/latex": [
       "$\\displaystyle \\sum_{\\substack{-\\infty \\leq j \\leq k - 10\\\\-\\infty \\leq k \\leq \\infty}} P_{j}g P_{k}f$"
      ],
      "text/plain": [
       "  ∞    k - 10                                          \n",
       " ___    ___                                            \n",
       " ╲      ╲                                              \n",
       "  ╲      ╲                                             \n",
       "  ╱      ╱    Freq_proj_base(j, g)⋅Freq_proj_base(k, f)\n",
       " ╱      ╱                                              \n",
       " ‾‾‾    ‾‾‾                                            \n",
       "k = -∞ j = -∞                                          "
      ]
     },
     "execution_count": 103,
     "metadata": {},
     "output_type": "execute_result"
    }
   ],
   "source": [
    "Para_hl(f,g)"
   ]
  },
  {
   "cell_type": "code",
   "execution_count": 104,
   "metadata": {},
   "outputs": [],
   "source": [
    "class Para_lh(Function):\n",
    "    @classmethod\n",
    "    def eval(cls,f,g):\n",
    "       return summation(summation(Freq_proj(j,f)*Freq_proj(k,g), (j, -oo,k-10)),(k, -oo, oo))"
   ]
  },
  {
   "cell_type": "code",
   "execution_count": 105,
   "metadata": {},
   "outputs": [
    {
     "data": {
      "image/png": "[encoded data removed]",
      "text/latex": [
       "$\\displaystyle \\sum_{\\substack{-\\infty \\leq j \\leq k - 10\\\\-\\infty \\leq k \\leq \\infty}} P_{j}f P_{k}g$"
      ],
      "text/plain": [
       "  ∞    k - 10                                          \n",
       " ___    ___                                            \n",
       " ╲      ╲                                              \n",
       "  ╲      ╲                                             \n",
       "  ╱      ╱    Freq_proj_base(j, f)⋅Freq_proj_base(k, g)\n",
       " ╱      ╱                                              \n",
       " ‾‾‾    ‾‾‾                                            \n",
       "k = -∞ j = -∞                                          "
      ]
     },
     "execution_count": 105,
     "metadata": {},
     "output_type": "execute_result"
    }
   ],
   "source": [
    "Para_lh(f,g)"
   ]
  }
 ],
 "metadata": {
  "kernelspec": {
   "display_name": "Python 3.8.8 64-bit ('base': conda)",
   "language": "python",
   "name": "python3"
  },
  "language_info": {
   "codemirror_mode": {
    "name": "ipython",
    "version": 3
   },
   "file_extension": ".py",
   "mimetype": "text/x-python",
   "name": "python",
   "nbconvert_exporter": "python",
   "pygments_lexer": "ipython3",
   "version": "3.8.8"
  },
  "orig_nbformat": 4,
  "vscode": {
   "interpreter": {
    "hash": "2c7381590f706752d836b9a448b90c34fae300fbf3dc9d730d2ea58ac2b7cd66"
   }
  }
 },
 "nbformat": 4,
 "nbformat_minor": 2
}
