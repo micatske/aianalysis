{
 "cells": [
  {
   "cell_type": "code",
   "execution_count": 13,
   "metadata": {},
   "outputs": [],
   "source": [
    "from sympy import *\n",
    "import inspect\n",
    "import numpy as np\n",
    "from fractions import Fraction\n",
    "init_printing()\n",
    "%run -i symbol_func_spaces.py\n"
   ]
  },
  {
   "cell_type": "code",
   "execution_count": 14,
   "metadata": {},
   "outputs": [],
   "source": [
    "s=Symbol(\"s\")\n",
    "p=Symbol(\"p\")\n",
    "n=Symbol(\"n\")\n",
    "q=Symbol(\"q\")\n",
    "f=Symbol(\"f\")\n",
    "g=Symbol(\"g\")\n",
    "alpha=Symbol(\"alpha\")\n",
    "r=Symbol(\"r\")\n",
    "k=Symbol(\"k\")\n",
    "l=Symbol(\"l\")\n",
    "j=Symbol(\"j\")"
   ]
  },
  {
   "cell_type": "code",
   "execution_count": 15,
   "metadata": {},
   "outputs": [],
   "source": [
    "nabla=Symbol(\"nabla\")\n",
    "lap=Symbol(\"triangle\")"
   ]
  },
  {
   "cell_type": "code",
   "execution_count": 16,
   "metadata": {},
   "outputs": [
    {
     "data": {
      "image/png": "[encoded data removed]",
      "text/latex": [
       "$\\displaystyle nabla$"
      ],
      "text/plain": [
       "nabla"
      ]
     },
     "execution_count": 16,
     "metadata": {},
     "output_type": "execute_result"
    }
   ],
   "source": [
    "nabla"
   ]
  },
  {
   "cell_type": "code",
   "execution_count": 17,
   "metadata": {},
   "outputs": [
    {
     "ename": "TypeError",
     "evalue": "can only concatenate str (not \"Symbol\") to str",
     "output_type": "error",
     "traceback": [
      "\u001b[0;31m---------------------------------------------------------------------------\u001b[0m",
      "\u001b[0;31mTypeError\u001b[0m                                 Traceback (most recent call last)",
      "\u001b[0;32m~/ml/aianalysis/symbol_func_spaces.py\u001b[0m in \u001b[0;36m<module>\u001b[0;34m\u001b[0m\n\u001b[0;32m----> 1\u001b[0;31m \u001b[0mexpr\u001b[0m \u001b[0;34m=\u001b[0m \u001b[0;34m\"<\"\u001b[0m\u001b[0;34m+\u001b[0m\u001b[0mk\u001b[0m\u001b[0;34m\u001b[0m\u001b[0;34m\u001b[0m\u001b[0m\n\u001b[0m\u001b[1;32m      2\u001b[0m \u001b[0mexpr\u001b[0m\u001b[0;34m[\u001b[0m\u001b[0;36m0\u001b[0m\u001b[0;34m]\u001b[0m\u001b[0;34m\u001b[0m\u001b[0;34m\u001b[0m\u001b[0m\n",
      "\u001b[0;31mTypeError\u001b[0m: can only concatenate str (not \"Symbol\") to str"
     ]
    }
   ],
   "source": [
    "expr = \"<\"+k\n",
    "expr[0]"
   ]
  },
  {
   "cell_type": "code",
   "execution_count": null,
   "metadata": {},
   "outputs": [
    {
     "name": "stdout",
     "output_type": "stream",
     "text": [
      "yes\n"
     ]
    }
   ],
   "source": [
    "if expr.args[1]==Symbol(\"nabla\"):\n",
    "    print(\"yes\")"
   ]
  },
  {
   "cell_type": "code",
   "execution_count": 20,
   "metadata": {},
   "outputs": [],
   "source": [
    "class Freq_proj_base(Function):\n",
    "    @classmethod\n",
    "    def eval(cls, k, f):\n",
    "       pass\n",
    "\n",
    "    def _latex(self, printer):\n",
    "        k, f = self.args\n",
    "        _k, _f = printer._print(k), printer._print(f)    \n",
    "        return r'P_{%s}%s' % (_k, _f)"
   ]
  },
  {
   "cell_type": "code",
   "execution_count": 21,
   "metadata": {},
   "outputs": [],
   "source": [
    "class Freq_proj(Function):\n",
    "    @classmethod\n",
    "    def eval(cls, k, f):\n",
    "       if len(f.args)>1:\n",
    "            if f.args[1]==Symbol(\"nabla\"):\n",
    "                return 2**k *Freq_proj_base(k,f.args[0])\n",
    "            if f.args[1]==Symbol(\"triangle\"):\n",
    "                return 2**(2*k) *Freq_proj_base(k,f.args[0])\n",
    "       else:\n",
    "             return Freq_proj_base(k,f)"
   ]
  },
  {
   "cell_type": "code",
   "execution_count": null,
   "metadata": {},
   "outputs": [
    {
     "data": {
      "image/png": "[encoded data removed]",
      "text/latex": [
       "$\\displaystyle 2^{4} P_{2}f 2^{4} P_{2}g$"
      ],
      "text/plain": [
       "Proj_f(2, f⋅triangle)⋅Proj_f(2, g⋅triangle)"
      ]
     },
     "execution_count": 141,
     "metadata": {},
     "output_type": "execute_result"
    }
   ],
   "source": [
    "simplify(Proj_f(2,lap*f) * Proj_f(2,lap*g))"
   ]
  },
  {
   "cell_type": "code",
   "execution_count": null,
   "metadata": {},
   "outputs": [
    {
     "data": {
      "image/png": "[encoded data removed]",
      "text/latex": [
       "$\\displaystyle 2^{k + 1} P_{2}f$"
      ],
      "text/plain": [
       " k + 1             \n",
       "2     ⋅Proj_f(2, f)"
      ]
     },
     "execution_count": 157,
     "metadata": {},
     "output_type": "execute_result"
    }
   ],
   "source": [
    "exp=2**k * Proj_f(2,f)\n",
    "exp = 2*exp\n",
    "simplify(exp)"
   ]
  },
  {
   "cell_type": "code",
   "execution_count": null,
   "metadata": {},
   "outputs": [
    {
     "data": {
      "image/png": "[encoded data removed]",
      "text/latex": [
       "$\\displaystyle 4 P_{2}f$"
      ],
      "text/plain": [
       "4⋅Freq_proj_base(2, f)"
      ]
     },
     "execution_count": 163,
     "metadata": {},
     "output_type": "execute_result"
    }
   ],
   "source": [
    "Freq_proj(2,nabla*f)"
   ]
  },
  {
   "cell_type": "code",
   "execution_count": null,
   "metadata": {},
   "outputs": [
    {
     "data": {
      "image/png": "[encoded data removed]",
      "text/latex": [
       "$\\displaystyle 2^{k} P_{k}f$"
      ],
      "text/plain": [
       " k                     \n",
       "2 ⋅Freq_proj_base(k, f)"
      ]
     },
     "execution_count": 165,
     "metadata": {},
     "output_type": "execute_result"
    }
   ],
   "source": [
    "Freq_proj(k,nabla*f) "
   ]
  },
  {
   "cell_type": "code",
   "execution_count": null,
   "metadata": {},
   "outputs": [
    {
     "data": {
      "image/png": "[encoded data removed]",
      "text/latex": [
       "$\\displaystyle 2^{3 k} P_{k}f P_{k}g$"
      ],
      "text/plain": [
       " 3⋅k                                          \n",
       "2   ⋅Freq_proj_base(k, f)⋅Freq_proj_base(k, g)"
      ]
     },
     "execution_count": 166,
     "metadata": {},
     "output_type": "execute_result"
    }
   ],
   "source": [
    "Freq_proj(k,nabla*f)  * Freq_proj(k,lap*g)"
   ]
  },
  {
   "cell_type": "code",
   "execution_count": 22,
   "metadata": {},
   "outputs": [
    {
     "data": {
      "image/png": "[encoded data removed]",
      "text/latex": [
       "$\\displaystyle P_{k}f$"
      ],
      "text/plain": [
       "Freq_proj_base(k, f)"
      ]
     },
     "execution_count": 22,
     "metadata": {},
     "output_type": "execute_result"
    }
   ],
   "source": [
    "Freq_proj(k,f)"
   ]
  },
  {
   "cell_type": "code",
   "execution_count": null,
   "metadata": {},
   "outputs": [
    {
     "data": {
      "image/png": "[encoded data removed]",
      "text/latex": [
       "$\\displaystyle 2^{k} P_{k}g$"
      ],
      "text/plain": [
       " k                     \n",
       "2 ⋅Freq_proj_base(k, g)"
      ]
     },
     "execution_count": 175,
     "metadata": {},
     "output_type": "execute_result"
    }
   ],
   "source": [
    "Freq_proj(k,nabla*g) "
   ]
  },
  {
   "cell_type": "code",
   "execution_count": 24,
   "metadata": {},
   "outputs": [],
   "source": [
    "class Paraproduct(Function):\n",
    "    @classmethod\n",
    "    def eval(cls,f,g):\n",
    "       pass\n",
    "    def _latex(self, printer):\n",
    "         f,g = self.args\n",
    "         pf_h,pg_h,pf_l,pg_l=Freq_proj(k,f),Freq_proj(k,g),Freq_proj(j,f),Freq_proj(j,g)\n",
    "         _pf_h,_pg_h,_k = printer._print(pf_h), printer._print(pg_h), printer._print(k)\n",
    "         _pf_l,_pg_l = printer._print(pf_l), printer._print(pg_l)\n",
    "         return r'\\sum_{k} (%s  %s) + \\sum_{k} \\sum_{j<k-10} (%s %s) +  \\sum_{k} \\sum_{j<k-10} (%s %s)' %(_pf_h,_pg_h,_pf_l,_pg_h,_pg_l,_pf_h)\n"
   ]
  },
  {
   "cell_type": "code",
   "execution_count": 25,
   "metadata": {},
   "outputs": [
    {
     "data": {
      "image/png": "[encoded data removed]",
      "text/latex": [
       "$\\displaystyle \\sum_{k} (2^{k} P_{k}f  P_{k}g) + \\sum_{k} \\sum_{j<k-10} (2^{j} P_{j}f P_{k}g) +  \\sum_{k} \\sum_{j<k-10} (P_{j}g 2^{k} P_{k}f)$"
      ],
      "text/plain": [
       "Paraproduct(f⋅nabla, g)"
      ]
     },
     "execution_count": 25,
     "metadata": {},
     "output_type": "execute_result"
    }
   ],
   "source": [
    "Paraproduct(nabla*f,g)"
   ]
  },
  {
   "cell_type": "code",
   "execution_count": 26,
   "metadata": {},
   "outputs": [
    {
     "data": {
      "image/png": "[encoded data removed]",
      "text/latex": [
       "$\\displaystyle \\sum_{k} (2^{k} P_{k}f  2^{2 k} P_{k}g) + \\sum_{k} \\sum_{j<k-10} (2^{j} P_{j}f 2^{2 k} P_{k}g) +  \\sum_{k} \\sum_{j<k-10} (2^{2 j} P_{j}g 2^{k} P_{k}f)$"
      ],
      "text/plain": [
       "Paraproduct(f⋅nabla, g⋅triangle)"
      ]
     },
     "execution_count": 26,
     "metadata": {},
     "output_type": "execute_result"
    }
   ],
   "source": [
    "Paraproduct(nabla*f,lap*g)"
   ]
  }
 ],
 "metadata": {
  "kernelspec": {
   "display_name": "Python 3.8.8 64-bit ('base': conda)",
   "language": "python",
   "name": "python3"
  },
  "language_info": {
   "codemirror_mode": {
    "name": "ipython",
    "version": 3
   },
   "file_extension": ".py",
   "mimetype": "text/x-python",
   "name": "python",
   "nbconvert_exporter": "python",
   "pygments_lexer": "ipython3",
   "version": "3.8.8"
  },
  "orig_nbformat": 4,
  "vscode": {
   "interpreter": {
    "hash": "2c7381590f706752d836b9a448b90c34fae300fbf3dc9d730d2ea58ac2b7cd66"
   }
  }
 },
 "nbformat": 4,
 "nbformat_minor": 2
}
